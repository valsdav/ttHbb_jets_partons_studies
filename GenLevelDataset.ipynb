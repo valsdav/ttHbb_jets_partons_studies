{
 "cells": [
  {
   "cell_type": "code",
   "execution_count": 21,
   "id": "bf294b6d-44a6-4fa4-815c-9aa89c118b73",
   "metadata": {},
   "outputs": [],
   "source": [
    "import matplotlib.pyplot as plt\n",
    "from matplotlib.colors import LogNorm\n",
    "import mplhep as hep\n",
    "from coffea.util import load\n",
    "import numpy as np\n",
    "import pandas as pd\n",
    "import awkward as ak\n",
    "from coffea.nanoevents import NanoEventsFactory, NanoAODSchema\n",
    "from numba import njit\n",
    "import vector\n",
    "vector.register_numba()\n",
    "vector.register_awkward()\n",
    "\n",
    "from pprint import pprint \n",
    "hep.style.use(hep.style.ROOT)\n",
    "\n",
    "import hist"
   ]
  },
  {
   "cell_type": "markdown",
   "id": "0ebeb423-1541-48ad-8491-a1631c5075cc",
   "metadata": {},
   "source": [
    "# Loading the exported dataset"
   ]
  },
  {
   "cell_type": "code",
   "execution_count": 22,
   "id": "4c384868-2dbb-4410-bfe9-f9d95d5e2464",
   "metadata": {},
   "outputs": [],
   "source": [
    "df = load(\"/eos/user/d/dvalsecc/www/ttHbbAnalysis/training_dataset/output_ttHTobb_2018_v7.coffea\")"
   ]
  },
  {
   "cell_type": "code",
   "execution_count": 23,
   "id": "7cb943f2-26dd-4deb-b88a-9f1a0646a4fb",
   "metadata": {},
   "outputs": [
    {
     "data": {
      "text/plain": [
       "{'initial': {'ttHTobb': 9668000},\n",
       " 'skim': {'ttHTobb': 1607845},\n",
       " 'presel': {'ttHTobb': 763132},\n",
       " 'semilep_LHE': {'ttHTobb': 569993}}"
      ]
     },
     "execution_count": 23,
     "metadata": {},
     "output_type": "execute_result"
    }
   ],
   "source": [
    "df[\"cutflow\"]"
   ]
  },
  {
   "cell_type": "code",
   "execution_count": 24,
   "id": "1a10b95c-625b-49b2-9c98-ab0e8e9ef006",
   "metadata": {},
   "outputs": [
    {
     "data": {
      "text/plain": [
       "{'semilep_LHE': {'ttHTobb': 929.9404434096181}}"
      ]
     },
     "execution_count": 24,
     "metadata": {},
     "output_type": "execute_result"
    }
   ],
   "source": [
    "df[\"sumw\"]"
   ]
  },
  {
   "cell_type": "code",
   "execution_count": 25,
   "id": "4810b3c2-60bf-456b-8b92-acc1d306bc66",
   "metadata": {},
   "outputs": [],
   "source": [
    "cs = df[\"columns\"]['ttHTobb'][\"semilep_LHE\"]\n",
    "\n",
    "partons = ak.unflatten(ak.zip({\"pt\": cs[\"Parton_pt\"].value,\n",
    "                              \"eta\": cs[\"Parton_eta\"].value,\n",
    "                              \"phi\": cs[\"Parton_phi\"].value,\n",
    "                               \"mass\": cs[\"Parton_mass\"].value,\n",
    "                              \"pdgId\": cs[\"Parton_pdgId\"].value, \n",
    "                              \"prov\": cs[\"Parton_provenance\"].value},\n",
    "                         with_name='Momentum4D'),\n",
    "                     cs[\"Parton_N\"].value)\n",
    "\n",
    "partons_matched = ak.unflatten(ak.zip({\"pt\": cs[\"PartonMatched_pt\"].value,\n",
    "                              \"eta\": cs[\"PartonMatched_eta\"].value,\n",
    "                              \"phi\": cs[\"PartonMatched_phi\"].value,\n",
    "                              \"mass\": cs[\"PartonMatched_mass\"].value,\n",
    "                              \"pdgId\": cs[\"PartonMatched_pdgId\"].value, \n",
    "                              \"prov\": cs[\"PartonMatched_provenance\"].value},\n",
    "                         with_name='Momentum4D'),\n",
    "                     cs[\"PartonMatched_N\"].value)\n",
    "\n",
    "jets = ak.unflatten(ak.zip({\"pt\": cs[\"JetGood_pt\"].value,\n",
    "                              \"eta\": cs[\"JetGood_eta\"].value,\n",
    "                              \"phi\": cs[\"JetGood_phi\"].value,\n",
    "                              \"btag\": cs[\"JetGood_btagDeepFlavB\"].value,\n",
    "                              \"m\": np.zeros(cs[\"JetGood_btagDeepFlavB\"].value.shape)},\n",
    "                         with_name='Momentum4D'),\n",
    "                     cs[\"JetGood_N\"].value)\n",
    "\n",
    "jets_matched = ak.unflatten(ak.zip({\"pt\": cs[\"JetGoodMatched_pt\"].value,\n",
    "                              \"eta\": cs[\"JetGoodMatched_eta\"].value,\n",
    "                              \"phi\": cs[\"JetGoodMatched_phi\"].value,\n",
    "                              \"btag\": cs[\"JetGoodMatched_btagDeepFlavB\"].value,\n",
    "                              \"prov\": cs[\"PartonMatched_provenance\"].value,\n",
    "                              \"m\": np.zeros(cs[\"PartonMatched_provenance\"].value.shape)},\n",
    "                         with_name='Momentum4D'),\n",
    "                     cs[\"JetGoodMatched_N\"].value)\n",
    "\n",
    "\n",
    "generator_info = ak.zip({\"pdgid1\": cs[\"Generator_id1\"].value,\n",
    "                              \"pdgid2\": cs[\"Generator_id2\"].value,\n",
    "                              \"x1\": cs[\"Generator_x1\"].value,\n",
    "                              \"x2\": cs[\"Generator_x2\"].value},\n",
    "                         )\n",
    "\n",
    "\n",
    "lepton_partons = ak.unflatten(ak.zip({\"pt\": cs[\"LeptonParton_pt\"].value,\n",
    "                              \"eta\": cs[\"LeptonParton_eta\"].value,\n",
    "                              \"phi\": cs[\"LeptonParton_phi\"].value,\n",
    "                              \"mass\": cs[\"LeptonParton_mass\"].value,\n",
    "                              \"pdgId\": cs[\"LeptonParton_pdgId\"].value},\n",
    "                         with_name='Momentum4D'),\n",
    "                     cs[\"LeptonParton_N\"].value)\n",
    "\n",
    "\n",
    "lepton = ak.zip({\"pt\": cs[\"LeptonGood_pt\"].value,\n",
    "                              \"eta\": cs[\"LeptonGood_eta\"].value,\n",
    "                              \"phi\": cs[\"LeptonGood_phi\"].value,\n",
    "                              \"m\": np.zeros(cs[\"LeptonGood_pt\"].value.shape)},\n",
    "                         with_name='Momentum4D')\n",
    "\n",
    "\n",
    "met = ak.zip({\"pt\": cs[\"MET_pt\"].value,\n",
    "              \"eta\":  np.zeros(cs[\"MET_pt\"].value.shape),\n",
    "              \"phi\": cs[\"MET_phi\"].value,\n",
    "              \"m\": np.zeros(cs[\"MET_pt\"].value.shape)},\n",
    "         with_name='Momentum4D')\n",
    "\n",
    "higgs = ak.zip({\"pt\": cs[\"HiggsParton_pt\"].value,\n",
    "                              \"eta\": cs[\"HiggsParton_eta\"].value,\n",
    "                              \"phi\": cs[\"HiggsParton_phi\"].value,\n",
    "                              \"m\": cs[\"HiggsParton_mass\"].value},\n",
    "                         with_name='Momentum4D')\n"
   ]
  },
  {
   "cell_type": "code",
   "execution_count": 26,
   "id": "51924b95-be03-4afa-bd6d-9355d8504c1c",
   "metadata": {},
   "outputs": [],
   "source": [
    "jets_matched = ak.mask(jets_matched, jets_matched.pt==-999, None)\n",
    "partons_matched = ak.mask(partons_matched, partons_matched.pt==-999, None)\n",
    "is_jet_matched = ~ak.is_none(jets_matched, axis=1)\n",
    "jets = ak.with_field(jets, is_jet_matched, \"matched\")\n",
    "\n",
    "# Filling with -1 the not matched provenance\n",
    "jets = ak.with_field(jets, ak.fill_none(jets_matched.prov, -1), \"prov\")"
   ]
  },
  {
   "cell_type": "markdown",
   "id": "c95d88c0-b9dd-4849-933d-12997bfd1be4",
   "metadata": {},
   "source": [
    "Jets and partons_matched arrays are **aligned**."
   ]
  },
  {
   "cell_type": "code",
   "execution_count": 28,
   "id": "c06eb64b-e5cd-4ce4-ae47-7b5531e0d7f2",
   "metadata": {},
   "outputs": [],
   "source": [
    "df = ak.zip({\n",
    "    \"jets\": jets,\n",
    "    \"partons_matched\": partons_matched,\n",
    "    \"partons\": partons,\n",
    "    \"generator_info\": generator_info,\n",
    "    \"lepton_partons\":lepton_partons,\n",
    "    \"lepton_reco\": lepton,\n",
    "    \"met\": met,\n",
    "    \"higgs\": higgs\n",
    "    }, depth_limit=1)\n",
    "\n",
    "ak.to_parquet(df, \"/eos/user/d/dvalsecc/www/ttHbbAnalysis/training_dataset/all_jets_v7.parquet\")"
   ]
  },
  {
   "cell_type": "code",
   "execution_count": 29,
   "id": "375ba439-0ff4-443e-a161-1274a1e92cb7",
   "metadata": {},
   "outputs": [
    {
     "data": {
      "text/plain": [
       "<MomentumArray4D [{pt: 59.2, eta: 1.37, ... m: 125}] type='569993 * Momentum4D[\"...'>"
      ]
     },
     "execution_count": 29,
     "metadata": {},
     "output_type": "execute_result"
    }
   ],
   "source": [
    "higgs"
   ]
  },
  {
   "cell_type": "code",
   "execution_count": null,
   "id": "918e52d5-31f5-40c8-9393-33e0b97fd6b2",
   "metadata": {},
   "outputs": [],
   "source": []
  }
 ],
 "metadata": {
  "kernelspec": {
   "display_name": "Python 3 (ipykernel)",
   "language": "python",
   "name": "python3"
  },
  "language_info": {
   "codemirror_mode": {
    "name": "ipython",
    "version": 3
   },
   "file_extension": ".py",
   "mimetype": "text/x-python",
   "name": "python",
   "nbconvert_exporter": "python",
   "pygments_lexer": "ipython3",
   "version": "3.9.15"
  }
 },
 "nbformat": 4,
 "nbformat_minor": 5
}
