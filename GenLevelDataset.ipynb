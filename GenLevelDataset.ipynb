{
 "cells": [
  {
   "cell_type": "code",
   "execution_count": 35,
   "id": "bf294b6d-44a6-4fa4-815c-9aa89c118b73",
   "metadata": {},
   "outputs": [],
   "source": [
    "import matplotlib.pyplot as plt\n",
    "from matplotlib.colors import LogNorm\n",
    "import mplhep as hep\n",
    "from coffea.util import load\n",
    "import numpy as np\n",
    "import pandas as pd\n",
    "import awkward as ak\n",
    "from coffea.nanoevents import NanoEventsFactory, NanoAODSchema\n",
    "from coffea.processor.accumulator import column_accumulator\n",
    "from coffea.processor import accumulate\n",
    "from numba import njit\n",
    "import vector\n",
    "vector.register_numba()\n",
    "vector.register_awkward()\n",
    "\n",
    "from pprint import pprint \n",
    "hep.style.use(hep.style.ROOT)\n",
    "\n",
    "import hist"
   ]
  },
  {
   "cell_type": "markdown",
   "id": "0ebeb423-1541-48ad-8491-a1631c5075cc",
   "metadata": {},
   "source": [
    "# Loading the exported dataset"
   ]
  },
  {
   "cell_type": "code",
   "execution_count": 40,
   "id": "4c384868-2dbb-4410-bfe9-f9d95d5e2464",
   "metadata": {},
   "outputs": [],
   "source": [
    "df = load(\"/eos/user/d/dvalsecc/www/ttHbbAnalysis/training_dataset/output_ttHTobb_fullRun2_v1.coffea\")"
   ]
  },
  {
   "cell_type": "code",
   "execution_count": 4,
   "id": "7cb943f2-26dd-4deb-b88a-9f1a0646a4fb",
   "metadata": {},
   "outputs": [
    {
     "data": {
      "text/plain": [
       "{'initial': {'ttHTobb_2018': 9668000,\n",
       "  'ttHTobb_2016_PreVFP': 4622000,\n",
       "  'ttHTobb_2016_PostVFP': 4937000,\n",
       "  'ttHTobb_2017': 7825000},\n",
       " 'skim': {'ttHTobb_2018': 1606848,\n",
       "  'ttHTobb_2016_PreVFP': 595171,\n",
       "  'ttHTobb_2016_PostVFP': 665949,\n",
       "  'ttHTobb_2017': 1239523},\n",
       " 'presel': {'ttHTobb_2018': 762553,\n",
       "  'ttHTobb_2016_PreVFP': 251905,\n",
       "  'ttHTobb_2016_PostVFP': 289373,\n",
       "  'ttHTobb_2017': 585451},\n",
       " 'baseline': {'ttHTobb_2018': {'ttHTobb': 762553},\n",
       "  'ttHTobb_2016_PreVFP': {'ttHTobb': 251905},\n",
       "  'ttHTobb_2016_PostVFP': {'ttHTobb': 289373},\n",
       "  'ttHTobb_2017': {'ttHTobb': 585451}},\n",
       " 'semilep_LHE': {'ttHTobb_2018': {'ttHTobb': 569646},\n",
       "  'ttHTobb_2016_PreVFP': {'ttHTobb': 188931},\n",
       "  'ttHTobb_2016_PostVFP': {'ttHTobb': 217062},\n",
       "  'ttHTobb_2017': {'ttHTobb': 438491}}}"
      ]
     },
     "execution_count": 4,
     "metadata": {},
     "output_type": "execute_result"
    }
   ],
   "source": [
    "df[\"cutflow\"]"
   ]
  },
  {
   "cell_type": "code",
   "execution_count": 5,
   "id": "1a10b95c-625b-49b2-9c98-ab0e8e9ef006",
   "metadata": {},
   "outputs": [
    {
     "data": {
      "text/plain": [
       "{'baseline': {'ttHTobb_2018': {'ttHTobb': 1258.8333048318555},\n",
       "  'ttHTobb_2016_PreVFP': {'ttHTobb': 296.2494175097036},\n",
       "  'ttHTobb_2016_PostVFP': {'ttHTobb': 274.0572408013326},\n",
       "  'ttHTobb_2017': {'ttHTobb': 856.4419132989669}},\n",
       " 'semilep_LHE': {'ttHTobb_2018': {'ttHTobb': 929.3939145075354},\n",
       "  'ttHTobb_2016_PreVFP': {'ttHTobb': 220.62629025662434},\n",
       "  'ttHTobb_2016_PostVFP': {'ttHTobb': 204.17366224287653},\n",
       "  'ttHTobb_2017': {'ttHTobb': 633.8371764421364}}}"
      ]
     },
     "execution_count": 5,
     "metadata": {},
     "output_type": "execute_result"
    }
   ],
   "source": [
    "df[\"sumw\"]"
   ]
  },
  {
   "cell_type": "markdown",
   "id": "e33eaa94-8475-474b-9566-929c0e5bd90a",
   "metadata": {},
   "source": [
    "### Normalize the genweights"
   ]
  },
  {
   "cell_type": "code",
   "execution_count": 41,
   "id": "14b7b9a0-a881-40a3-a307-d4cb52fa6c39",
   "metadata": {
    "tags": []
   },
   "outputs": [
    {
     "name": "stdout",
     "output_type": "stream",
     "text": [
      "Datasets:  dict_keys(['ttHTobb_2018', 'ttHTobb_2016_PreVFP', 'ttHTobb_2016_PostVFP', 'ttHTobb_2017'])\n"
     ]
    }
   ],
   "source": [
    "datasets = df[\"sum_genweights\"].keys()\n",
    "print(\"Datasets: \", datasets)"
   ]
  },
  {
   "cell_type": "code",
   "execution_count": 42,
   "id": "6105294e-6066-4345-b080-87c56b85fb5e",
   "metadata": {
    "tags": []
   },
   "outputs": [],
   "source": [
    "for dataset in datasets:\n",
    "    df[\"columns\"][\"ttHTobb\"][dataset][\"semilep_LHE\"][\"weight\"] = column_accumulator(df[\"columns\"][\"ttHTobb\"][dataset][\"semilep_LHE\"][\"weight\"].value / df[\"sum_genweights\"][dataset])"
   ]
  },
  {
   "cell_type": "code",
   "execution_count": 43,
   "id": "4810b3c2-60bf-456b-8b92-acc1d306bc66",
   "metadata": {},
   "outputs": [],
   "source": [
    "cs = accumulate([df[\"columns\"][\"ttHTobb\"][dataset][\"semilep_LHE\"] for dataset in datasets])\n",
    "\n",
    "partons = ak.unflatten(ak.zip({\"pt\": cs[\"Parton_pt\"].value,\n",
    "                              \"eta\": cs[\"Parton_eta\"].value,\n",
    "                              \"phi\": cs[\"Parton_phi\"].value,\n",
    "                               \"mass\": cs[\"Parton_mass\"].value,\n",
    "                              \"pdgId\": cs[\"Parton_pdgId\"].value, \n",
    "                              \"prov\": cs[\"Parton_provenance\"].value},\n",
    "                         with_name='Momentum4D'),\n",
    "                     cs[\"Parton_N\"].value)\n",
    "\n",
    "partons_matched = ak.unflatten(ak.zip({\"pt\": cs[\"PartonMatched_pt\"].value,\n",
    "                              \"eta\": cs[\"PartonMatched_eta\"].value,\n",
    "                              \"phi\": cs[\"PartonMatched_phi\"].value,\n",
    "                              \"mass\": cs[\"PartonMatched_mass\"].value,\n",
    "                              \"pdgId\": cs[\"PartonMatched_pdgId\"].value, \n",
    "                              \"prov\": cs[\"PartonMatched_provenance\"].value},\n",
    "                         with_name='Momentum4D'),\n",
    "                     cs[\"PartonMatched_N\"].value)\n",
    "\n",
    "jets = ak.unflatten(ak.zip({\"pt\": cs[\"JetGood_pt\"].value,\n",
    "                              \"eta\": cs[\"JetGood_eta\"].value,\n",
    "                              \"phi\": cs[\"JetGood_phi\"].value,\n",
    "                              \"btag\": cs[\"JetGood_btagDeepFlavB\"].value,\n",
    "                              \"m\": np.zeros(cs[\"JetGood_btagDeepFlavB\"].value.shape)},\n",
    "                         with_name='Momentum4D'),\n",
    "                     cs[\"JetGood_N\"].value)\n",
    "\n",
    "jets_matched = ak.unflatten(ak.zip({\"pt\": cs[\"JetGoodMatched_pt\"].value,\n",
    "                              \"eta\": cs[\"JetGoodMatched_eta\"].value,\n",
    "                              \"phi\": cs[\"JetGoodMatched_phi\"].value,\n",
    "                              \"btag\": cs[\"JetGoodMatched_btagDeepFlavB\"].value,\n",
    "                              \"prov\": cs[\"PartonMatched_provenance\"].value,\n",
    "                              \"m\": np.zeros(cs[\"PartonMatched_provenance\"].value.shape)},\n",
    "                         with_name='Momentum4D'),\n",
    "                     cs[\"JetGoodMatched_N\"].value)\n",
    "\n",
    "\n",
    "generator_info = ak.zip({\"pdgid1\": cs[\"Generator_id1\"].value,\n",
    "                              \"pdgid2\": cs[\"Generator_id2\"].value,\n",
    "                              \"x1\": cs[\"Generator_x1\"].value,\n",
    "                              \"x2\": cs[\"Generator_x2\"].value},\n",
    "                         )\n",
    "\n",
    "\n",
    "lepton_partons = ak.unflatten(ak.zip({\"pt\": cs[\"LeptonParton_pt\"].value,\n",
    "                              \"eta\": cs[\"LeptonParton_eta\"].value,\n",
    "                              \"phi\": cs[\"LeptonParton_phi\"].value,\n",
    "                              \"mass\": cs[\"LeptonParton_mass\"].value,\n",
    "                              \"pdgId\": cs[\"LeptonParton_pdgId\"].value},\n",
    "                         with_name='Momentum4D'),\n",
    "                     cs[\"LeptonParton_N\"].value)\n",
    "\n",
    "\n",
    "lepton = ak.zip({\"pt\": cs[\"LeptonGood_pt\"].value,\n",
    "                              \"eta\": cs[\"LeptonGood_eta\"].value,\n",
    "                              \"phi\": cs[\"LeptonGood_phi\"].value,\n",
    "                              \"m\": np.zeros(cs[\"LeptonGood_pt\"].value.shape)},\n",
    "                         with_name='Momentum4D')\n",
    "\n",
    "\n",
    "met = ak.zip({\"pt\": cs[\"MET_pt\"].value,\n",
    "              \"eta\":  np.zeros(cs[\"MET_pt\"].value.shape),\n",
    "              \"phi\": cs[\"MET_phi\"].value,\n",
    "              \"m\": np.zeros(cs[\"MET_pt\"].value.shape)},\n",
    "         with_name='Momentum4D')\n",
    "\n",
    "higgs = ak.zip({\"pt\": cs[\"HiggsParton_pt\"].value,\n",
    "                              \"eta\": cs[\"HiggsParton_eta\"].value,\n",
    "                              \"phi\": cs[\"HiggsParton_phi\"].value,\n",
    "                              \"m\": cs[\"HiggsParton_mass\"].value},\n",
    "                         with_name='Momentum4D')\n"
   ]
  },
  {
   "cell_type": "code",
   "execution_count": 48,
   "id": "51924b95-be03-4afa-bd6d-9355d8504c1c",
   "metadata": {},
   "outputs": [],
   "source": [
    "jets_matched = ak.mask(jets_matched, jets_matched.pt==-999, None)\n",
    "partons_matched = ak.mask(partons_matched, partons_matched.pt==-999, None)\n",
    "is_jet_matched = ~ak.is_none(jets_matched, axis=1)\n",
    "jets = ak.with_field(jets, is_jet_matched, \"matched\")\n",
    "\n",
    "# Filling with -1 the not matched provenance\n",
    "jets = ak.with_field(jets, ak.fill_none(jets_matched.prov, -1), \"prov\")"
   ]
  },
  {
   "cell_type": "markdown",
   "id": "c95d88c0-b9dd-4849-933d-12997bfd1be4",
   "metadata": {},
   "source": [
    "Jets and partons_matched arrays are **aligned**."
   ]
  },
  {
   "cell_type": "code",
   "execution_count": 49,
   "id": "c06eb64b-e5cd-4ce4-ae47-7b5531e0d7f2",
   "metadata": {},
   "outputs": [],
   "source": [
    "dfout = ak.zip({\n",
    "    \"jets\": jets,\n",
    "    \"partons_matched\": partons_matched,\n",
    "    \"partons\": partons,\n",
    "    \"generator_info\": generator_info,\n",
    "    \"lepton_partons\":lepton_partons,\n",
    "    \"lepton_reco\": lepton,\n",
    "    \"met\": met,\n",
    "    \"higgs\": higgs\n",
    "    }, depth_limit=1)\n",
    "\n",
    "ak.to_parquet(dfout, \"/eos/user/d/dvalsecc/www/ttHbbAnalysis/training_dataset/all_jets_fullRun2_v1.parquet\")"
   ]
  },
  {
   "cell_type": "markdown",
   "id": "e96fe22c-7401-4e54-bb0b-c1f1300c5795",
   "metadata": {},
   "source": [
    "#### Fully-matched dataset"
   ]
  },
  {
   "cell_type": "code",
   "execution_count": 62,
   "id": "5bc9a181-e524-4971-a099-7cfe82daa2b2",
   "metadata": {
    "tags": []
   },
   "outputs": [],
   "source": [
    "N_matched_parton = ak.sum(~ak.is_none(partons_matched, axis=1), axis=1)\n",
    "N_matched_parton_higgs =  ak.sum(partons_matched.prov == 1, axis=1)"
   ]
  },
  {
   "cell_type": "code",
   "execution_count": 58,
   "id": "5c2a7edf-a0c0-4a20-bc7c-be1574ea100e",
   "metadata": {
    "tags": []
   },
   "outputs": [
    {
     "data": {
      "text/plain": [
       "(array([6.50000e+01, 1.49800e+03, 1.13960e+04, 7.83940e+04, 4.10335e+05,\n",
       "        5.50934e+05, 3.03270e+05, 5.82380e+04]),\n",
       " array([0., 1., 2., 3., 4., 5., 6., 7., 8.]),\n",
       " <BarContainer object of 8 artists>)"
      ]
     },
     "execution_count": 58,
     "metadata": {},
     "output_type": "execute_result"
    },
    {
     "data": {
      "image/png": "[encoded data removed]",
      "text/plain": [
       "<Figure size 1000x1000 with 1 Axes>"
      ]
     },
     "metadata": {},
     "output_type": "display_data"
    }
   ],
   "source": [
    "plt.hist(N_matched_parton, bins=8, range=(0, 8))"
   ]
  },
  {
   "cell_type": "code",
   "execution_count": 66,
   "id": "b674283e-7680-4a37-8d38-689b6da5ede7",
   "metadata": {
    "tags": []
   },
   "outputs": [
    {
     "name": "stdout",
     "output_type": "stream",
     "text": [
      "There are 58238 fully matched events\n",
      "There are 850272 events with fully matched higgs\n"
     ]
    }
   ],
   "source": [
    "full_matched = (N_matched_parton == 7)\n",
    "higgs_matched = N_matched_parton_higgs == 2\n",
    "\n",
    "print(f\"There are {ak.sum(full_matched)} fully matched events\")\n",
    "print(f\"There are {ak.sum(higgs_matched)} events with fully matched higgs\")"
   ]
  },
  {
   "cell_type": "code",
   "execution_count": 69,
   "id": "be731d49-d243-47f6-8760-23b5c1062adc",
   "metadata": {
    "tags": []
   },
   "outputs": [
    {
     "data": {
      "text/plain": [
       "<Array [False, False, False, ... False, False] type='1414130 * bool'>"
      ]
     },
     "execution_count": 69,
     "metadata": {},
     "output_type": "execute_result"
    }
   ],
   "source": [
    "full_matched"
   ]
  },
  {
   "cell_type": "code",
   "execution_count": 70,
   "id": "4b218ae1-4708-4d39-bf62-29fd813f8fcd",
   "metadata": {
    "tags": []
   },
   "outputs": [],
   "source": [
    "dfout_full_matched = ak.zip({\n",
    "    \"jets\": jets[full_matched],\n",
    "    \"partons_matched\": partons_matched[full_matched],\n",
    "    \"partons\": partons[full_matched],\n",
    "    \"generator_info\": generator_info[full_matched],\n",
    "    \"lepton_partons\":lepton_partons[full_matched],\n",
    "    \"lepton_reco\": lepton[full_matched],\n",
    "    \"met\": met[full_matched],\n",
    "    \"higgs\": higgs[full_matched]\n",
    "    }, depth_limit=1)\n",
    "\n",
    "ak.to_parquet(dfout_full_matched, \"/eos/user/d/dvalsecc/www/ttHbbAnalysis/training_dataset/all_jets_fullypartonmatched_fullRun2_v1.parquet\")"
   ]
  },
  {
   "cell_type": "code",
   "execution_count": 71,
   "id": "dff7ada9-dc52-48fd-ae0d-81c752dd6d2f",
   "metadata": {
    "tags": []
   },
   "outputs": [],
   "source": [
    "dfout_higgs_matched = ak.zip({\n",
    "    \"jets\": jets[higgs_matched],\n",
    "    \"partons_matched\": partons_matched[higgs_matched],\n",
    "    \"partons\": partons[higgs_matched],\n",
    "    \"generator_info\": generator_info[higgs_matched],\n",
    "    \"lepton_partons\":lepton_partons[higgs_matched],\n",
    "    \"lepton_reco\": lepton[higgs_matched],\n",
    "    \"met\": met[higgs_matched],\n",
    "    \"higgs\": higgs[higgs_matched]\n",
    "    }, depth_limit=1)\n",
    "\n",
    "ak.to_parquet(dfout_higgs_matched, \"/eos/user/d/dvalsecc/www/ttHbbAnalysis/training_dataset/all_jets_higgsmatched_fullRun2_v1.parquet\")"
   ]
  },
  {
   "cell_type": "code",
   "execution_count": 16,
   "id": "92d8f3a8-1da6-4eac-b3b7-8192d9d1e290",
   "metadata": {
    "tags": []
   },
   "outputs": [],
   "source": [
    "# Now saving the \"fully matched dataset\", where all the events have all the partons matched"
   ]
  },
  {
   "cell_type": "markdown",
   "id": "2106bc40-e2bb-4d0a-a0b7-59cfbb9fb935",
   "metadata": {},
   "source": [
    "# Debugging plots"
   ]
  },
  {
   "cell_type": "code",
   "execution_count": 47,
   "id": "a21c8432-76d5-4599-9ac5-33d2c62e0d3a",
   "metadata": {
    "tags": []
   },
   "outputs": [
    {
     "data": {
      "text/plain": [
       "Text(1, 0, 'Events weight')"
      ]
     },
     "execution_count": 47,
     "metadata": {},
     "output_type": "execute_result"
    },
    {
     "data": {
      "image/png": "[encoded data removed]",
      "text/plain": [
       "<Figure size 1000x1000 with 1 Axes>"
      ]
     },
     "metadata": {},
     "output_type": "display_data"
    }
   ],
   "source": [
    "plt.hist(cs[\"weight\"].value, bins=100)\n",
    "plt.yscale(\"log\")\n",
    "plt.xlabel(\"Events weight\")"
   ]
  },
  {
   "cell_type": "code",
   "execution_count": null,
   "id": "02df5929-e9f1-40d3-9279-21e251200280",
   "metadata": {},
   "outputs": [],
   "source": []
  }
 ],
 "metadata": {
  "kernelspec": {
   "display_name": "Python 3 (ipykernel)",
   "language": "python",
   "name": "python3"
  },
  "language_info": {
   "codemirror_mode": {
    "name": "ipython",
    "version": 3
   },
   "file_extension": ".py",
   "mimetype": "text/x-python",
   "name": "python",
   "nbconvert_exporter": "python",
   "pygments_lexer": "ipython3",
   "version": "3.9.16"
  }
 },
 "nbformat": 4,
 "nbformat_minor": 5
}
