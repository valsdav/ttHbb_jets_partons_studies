{
 "cells": [
  {
   "cell_type": "code",
   "execution_count": 1,
   "id": "4fd10269-367d-4226-a924-4119e1087890",
   "metadata": {
    "tags": []
   },
   "outputs": [],
   "source": [
    "import awkward as ak\n",
    "import numba\n",
    "import numpy as np\n",
    "import pandas as pd\n",
    "import awkward as ak\n",
    "import vector\n",
    "vector.register_numba()\n",
    "vector.register_awkward()\n",
    "import os\n",
    "\n",
    "import matplotlib.pyplot as plt\n",
    "from matplotlib.colors import LogNorm\n",
    "import mplhep as hep\n",
    "hep.style.use(hep.style.ROOT)\n",
    "\n",
    "from importlib import reload\n",
    "\n",
    "import numba\n",
    "import spanet_predictions"
   ]
  },
  {
   "cell_type": "code",
   "execution_count": 2,
   "id": "316b3504-3e05-4667-adf7-67b57d8eab55",
   "metadata": {
    "tags": []
   },
   "outputs": [],
   "source": [
    "@numba.njit\n",
    "def assign_provenance_and_prob(t1pred, t2pred, hpred, \n",
    "                      t1prob, t2prob, hprob, njets):\n",
    "    out = np.zeros((t1pred.shape[0], njets)) -1\n",
    "    prob = np.zeros((t1pred.shape[0], njets, 3), dtype=np.float32)-np.float32(np.inf)\n",
    "    \n",
    "    #print(prob)\n",
    "    for iev, (t1, t2, h, t1p, t2p, hp) in enumerate(zip(t1pred, t2pred, hpred, t1prob, t2prob, hprob)):\n",
    "    \n",
    "        if t1[0] == -2:\n",
    "            prob_t1 = -np.inf\n",
    "        else:\n",
    "            prob_t1 = t1p[t1[0]][t1[1]][t1[2]]\n",
    "            \n",
    "        if t2[0] == -2:\n",
    "            prob_t2 = -np.inf\n",
    "        else:\n",
    "            prob_t2 = t2p[t2[0]]\n",
    "            \n",
    "        if h[0] == -2:\n",
    "            prob_h = -np.inf\n",
    "        else:\n",
    "            prob_h = hp[h[0]][h[1]]\n",
    "            \n",
    "        \n",
    "        # prob_t1 = t1p[t1[0]][t1[1]][t1[2]]\n",
    "        # prob_t2 = t2p[t2[0]][t2[1]]\n",
    "        # prob_h = hp[h[0]][h[1]]\n",
    "        # print(prob_t1, prob_t2, prob_h)\n",
    "        \n",
    "        for i in t1: \n",
    "            out[iev][i] = 1\n",
    "            prob[iev][i][0] = prob_t1\n",
    "        for i in t2: \n",
    "            out[iev][i] = 2\n",
    "            prob[iev][i][1] = prob_t2\n",
    "        for i in h: \n",
    "            out[iev][i] = 3\n",
    "            prob[iev][i][2] = prob_h\n",
    "\n",
    "    return out, prob"
   ]
  },
  {
   "cell_type": "code",
   "execution_count": 3,
   "id": "34969e58-80b7-456a-990f-f540a29ea141",
   "metadata": {
    "tags": []
   },
   "outputs": [],
   "source": [
    "basedir= \"/work/dvalsecc/ttHbb/ttHbb_jets_partons_studies/sig_bkg_30_08_2023_v2/out_forTraining_sig_bkg\""
   ]
  },
  {
   "cell_type": "code",
   "execution_count": 4,
   "id": "72020e7f-30fb-45b8-bf21-74a325fec8c1",
   "metadata": {
    "tags": []
   },
   "outputs": [
    {
     "data": {
      "text/plain": [
       "['all_jets_fullRun2_ttHTobb_forTraining_2018_v3.parquet',\n",
       " 'all_jets_fullRun2_ttHTobb_forTraining_2016_PreVFP_v3.parquet',\n",
       " 'all_jets_fullRun2_ttHTobb_forTraining_2017_v3.parquet',\n",
       " 'all_jets_fullRun2_ttHTobb_forTraining_2016_PostVFP_v3.parquet']"
      ]
     },
     "execution_count": 4,
     "metadata": {},
     "output_type": "execute_result"
    }
   ],
   "source": [
    "os.listdir(basedir)"
   ]
  },
  {
   "cell_type": "code",
   "execution_count": 4,
   "id": "7e134e3f-20a8-490f-b18a-0026d488e0d6",
   "metadata": {
    "tags": []
   },
   "outputs": [
    {
     "ename": "RuntimeError",
     "evalue": "AppendRowGroups requires equal schemas.\nThis schema has 41 columns, other has 45\n\nThis error occurred while calling\n\n    ak.from_parquet(\n        '/work/dvalsecc/ttHbb/ttHbb_jets_partons_studies/sig_bkg_3'...\n    )",
     "output_type": "error",
     "traceback": [
      "\u001b[0;31m---------------------------------------------------------------------------\u001b[0m",
      "\u001b[0;31mRuntimeError\u001b[0m                              Traceback (most recent call last)",
      "File \u001b[0;32m/home/user/micromamba/lib/python3.9/site-packages/awkward/_dispatch.py:37\u001b[0m, in \u001b[0;36mnamed_high_level_function.<locals>.dispatch\u001b[0;34m(*args, **kwargs)\u001b[0m\n\u001b[1;32m     36\u001b[0m \u001b[38;5;28;01mwith\u001b[39;00m OperationErrorContext(name, args, kwargs):\n\u001b[0;32m---> 37\u001b[0m     gen_or_result \u001b[38;5;241m=\u001b[39m \u001b[43mfunc\u001b[49m\u001b[43m(\u001b[49m\u001b[38;5;241;43m*\u001b[39;49m\u001b[43margs\u001b[49m\u001b[43m,\u001b[49m\u001b[43m \u001b[49m\u001b[38;5;241;43m*\u001b[39;49m\u001b[38;5;241;43m*\u001b[39;49m\u001b[43mkwargs\u001b[49m\u001b[43m)\u001b[49m\n\u001b[1;32m     38\u001b[0m     \u001b[38;5;28;01mif\u001b[39;00m isgenerator(gen_or_result):\n",
      "File \u001b[0;32m/home/user/micromamba/lib/python3.9/site-packages/awkward/operations/ak_from_parquet.py:58\u001b[0m, in \u001b[0;36mfrom_parquet\u001b[0;34m(path, columns, row_groups, storage_options, max_gap, max_block, footer_sample_size, generate_bitmasks, highlevel, behavior)\u001b[0m\n\u001b[1;32m     56\u001b[0m \u001b[38;5;28;01mimport\u001b[39;00m \u001b[38;5;21;01mawkward\u001b[39;00m\u001b[38;5;21;01m.\u001b[39;00m\u001b[38;5;21;01m_connect\u001b[39;00m\u001b[38;5;21;01m.\u001b[39;00m\u001b[38;5;21;01mpyarrow\u001b[39;00m  \u001b[38;5;66;03m# noqa: F401\u001b[39;00m\n\u001b[0;32m---> 58\u001b[0m parquet_columns, subform, actual_paths, fs, subrg, row_counts, meta \u001b[38;5;241m=\u001b[39m \u001b[43mmetadata\u001b[49m\u001b[43m(\u001b[49m\n\u001b[1;32m     59\u001b[0m \u001b[43m    \u001b[49m\u001b[43mpath\u001b[49m\u001b[43m,\u001b[49m\n\u001b[1;32m     60\u001b[0m \u001b[43m    \u001b[49m\u001b[43mstorage_options\u001b[49m\u001b[43m,\u001b[49m\n\u001b[1;32m     61\u001b[0m \u001b[43m    \u001b[49m\u001b[43mrow_groups\u001b[49m\u001b[43m,\u001b[49m\n\u001b[1;32m     62\u001b[0m \u001b[43m    \u001b[49m\u001b[43mcolumns\u001b[49m\u001b[43m,\u001b[49m\n\u001b[1;32m     63\u001b[0m \u001b[43m\u001b[49m\u001b[43m)\u001b[49m\n\u001b[1;32m     64\u001b[0m \u001b[38;5;28;01mreturn\u001b[39;00m _load(\n\u001b[1;32m     65\u001b[0m     actual_paths,\n\u001b[1;32m     66\u001b[0m     parquet_columns \u001b[38;5;28;01mif\u001b[39;00m columns \u001b[38;5;129;01mis\u001b[39;00m \u001b[38;5;129;01mnot\u001b[39;00m \u001b[38;5;28;01mNone\u001b[39;00m \u001b[38;5;28;01melse\u001b[39;00m \u001b[38;5;28;01mNone\u001b[39;00m,\n\u001b[0;32m   (...)\u001b[0m\n\u001b[1;32m     75\u001b[0m     fs,\n\u001b[1;32m     76\u001b[0m )\n",
      "File \u001b[0;32m/home/user/micromamba/lib/python3.9/site-packages/awkward/_dispatch.py:37\u001b[0m, in \u001b[0;36mnamed_high_level_function.<locals>.dispatch\u001b[0;34m(*args, **kwargs)\u001b[0m\n\u001b[1;32m     36\u001b[0m \u001b[38;5;28;01mwith\u001b[39;00m OperationErrorContext(name, args, kwargs):\n\u001b[0;32m---> 37\u001b[0m     gen_or_result \u001b[38;5;241m=\u001b[39m \u001b[43mfunc\u001b[49m\u001b[43m(\u001b[49m\u001b[38;5;241;43m*\u001b[39;49m\u001b[43margs\u001b[49m\u001b[43m,\u001b[49m\u001b[43m \u001b[49m\u001b[38;5;241;43m*\u001b[39;49m\u001b[38;5;241;43m*\u001b[39;49m\u001b[43mkwargs\u001b[49m\u001b[43m)\u001b[49m\n\u001b[1;32m     38\u001b[0m     \u001b[38;5;28;01mif\u001b[39;00m isgenerator(gen_or_result):\n",
      "File \u001b[0;32m/home/user/micromamba/lib/python3.9/site-packages/awkward/operations/ak_from_parquet.py:146\u001b[0m, in \u001b[0;36mmetadata\u001b[0;34m(path, storage_options, row_groups, columns, ignore_metadata, scan_files)\u001b[0m\n\u001b[1;32m    145\u001b[0m             md\u001b[38;5;241m.\u001b[39mset_file_path(apath\u001b[38;5;241m.\u001b[39mrsplit(\u001b[38;5;124m\"\u001b[39m\u001b[38;5;124m/\u001b[39m\u001b[38;5;124m\"\u001b[39m, \u001b[38;5;241m1\u001b[39m)[\u001b[38;5;241m-\u001b[39m\u001b[38;5;241m1\u001b[39m])\n\u001b[0;32m--> 146\u001b[0m             \u001b[43mmetadata\u001b[49m\u001b[38;5;241;43m.\u001b[39;49m\u001b[43mappend_row_groups\u001b[49m\u001b[43m(\u001b[49m\u001b[43mmd\u001b[49m\u001b[43m)\u001b[49m\n\u001b[1;32m    147\u001b[0m \u001b[38;5;28;01mif\u001b[39;00m row_groups \u001b[38;5;129;01mis\u001b[39;00m \u001b[38;5;129;01mnot\u001b[39;00m \u001b[38;5;28;01mNone\u001b[39;00m:\n",
      "File \u001b[0;32m/home/user/micromamba/lib/python3.9/site-packages/pyarrow/_parquet.pyx:805\u001b[0m, in \u001b[0;36mpyarrow._parquet.FileMetaData.append_row_groups\u001b[0;34m()\u001b[0m\n",
      "\u001b[0;31mRuntimeError\u001b[0m: AppendRowGroups requires equal schemas.\nThis schema has 41 columns, other has 45",
      "\nThe above exception was the direct cause of the following exception:\n",
      "\u001b[0;31mRuntimeError\u001b[0m                              Traceback (most recent call last)",
      "Cell \u001b[0;32mIn[4], line 1\u001b[0m\n\u001b[0;32m----> 1\u001b[0m df \u001b[38;5;241m=\u001b[39m \u001b[43mak\u001b[49m\u001b[38;5;241;43m.\u001b[39;49m\u001b[43mfrom_parquet\u001b[49m\u001b[43m(\u001b[49m\u001b[43mbasedir\u001b[49m\u001b[43m)\u001b[49m\n",
      "File \u001b[0;32m/home/user/micromamba/lib/python3.9/site-packages/awkward/_dispatch.py:68\u001b[0m, in \u001b[0;36mnamed_high_level_function.<locals>.dispatch\u001b[0;34m(*args, **kwargs)\u001b[0m\n\u001b[1;32m     63\u001b[0m     \u001b[38;5;28;01melse\u001b[39;00m:\n\u001b[1;32m     64\u001b[0m         \u001b[38;5;28;01mraise\u001b[39;00m \u001b[38;5;167;01mAssertionError\u001b[39;00m(\n\u001b[1;32m     65\u001b[0m             \u001b[38;5;124m\"\u001b[39m\u001b[38;5;124mhigh-level functions should only implement a single yield statement\u001b[39m\u001b[38;5;124m\"\u001b[39m\n\u001b[1;32m     66\u001b[0m         )\n\u001b[0;32m---> 68\u001b[0m \u001b[38;5;28;01mreturn\u001b[39;00m gen_or_result\n",
      "File \u001b[0;32m/home/user/micromamba/lib/python3.9/site-packages/awkward/_errors.py:67\u001b[0m, in \u001b[0;36mErrorContext.__exit__\u001b[0;34m(self, exception_type, exception_value, traceback)\u001b[0m\n\u001b[1;32m     60\u001b[0m \u001b[38;5;28;01mtry\u001b[39;00m:\n\u001b[1;32m     61\u001b[0m     \u001b[38;5;66;03m# Handle caught exception\u001b[39;00m\n\u001b[1;32m     62\u001b[0m     \u001b[38;5;28;01mif\u001b[39;00m (\n\u001b[1;32m     63\u001b[0m         exception_type \u001b[38;5;129;01mis\u001b[39;00m \u001b[38;5;129;01mnot\u001b[39;00m \u001b[38;5;28;01mNone\u001b[39;00m\n\u001b[1;32m     64\u001b[0m         \u001b[38;5;129;01mand\u001b[39;00m \u001b[38;5;28missubclass\u001b[39m(exception_type, \u001b[38;5;167;01mException\u001b[39;00m)\n\u001b[1;32m     65\u001b[0m         \u001b[38;5;129;01mand\u001b[39;00m \u001b[38;5;28mself\u001b[39m\u001b[38;5;241m.\u001b[39mprimary() \u001b[38;5;129;01mis\u001b[39;00m \u001b[38;5;28mself\u001b[39m\n\u001b[1;32m     66\u001b[0m     ):\n\u001b[0;32m---> 67\u001b[0m         \u001b[38;5;28;43mself\u001b[39;49m\u001b[38;5;241;43m.\u001b[39;49m\u001b[43mhandle_exception\u001b[49m\u001b[43m(\u001b[49m\u001b[43mexception_type\u001b[49m\u001b[43m,\u001b[49m\u001b[43m \u001b[49m\u001b[43mexception_value\u001b[49m\u001b[43m)\u001b[49m\n\u001b[1;32m     68\u001b[0m \u001b[38;5;28;01mfinally\u001b[39;00m:\n\u001b[1;32m     69\u001b[0m     \u001b[38;5;66;03m# `_kwargs` may hold cyclic references, that we really want to avoid\u001b[39;00m\n\u001b[1;32m     70\u001b[0m     \u001b[38;5;66;03m# as this can lead to large buffers remaining in memory for longer than absolutely necessary\u001b[39;00m\n\u001b[1;32m     71\u001b[0m     \u001b[38;5;66;03m# Let's just clear this, now.\u001b[39;00m\n\u001b[1;32m     72\u001b[0m     \u001b[38;5;28mself\u001b[39m\u001b[38;5;241m.\u001b[39m_kwargs\u001b[38;5;241m.\u001b[39mclear()\n",
      "File \u001b[0;32m/home/user/micromamba/lib/python3.9/site-packages/awkward/_errors.py:82\u001b[0m, in \u001b[0;36mErrorContext.handle_exception\u001b[0;34m(self, cls, exception)\u001b[0m\n\u001b[1;32m     80\u001b[0m     \u001b[38;5;28mself\u001b[39m\u001b[38;5;241m.\u001b[39mdecorate_exception(\u001b[38;5;28mcls\u001b[39m, exception)\n\u001b[1;32m     81\u001b[0m \u001b[38;5;28;01melse\u001b[39;00m:\n\u001b[0;32m---> 82\u001b[0m     \u001b[38;5;28;01mraise\u001b[39;00m \u001b[38;5;28mself\u001b[39m\u001b[38;5;241m.\u001b[39mdecorate_exception(\u001b[38;5;28mcls\u001b[39m, exception)\n",
      "\u001b[0;31mRuntimeError\u001b[0m: AppendRowGroups requires equal schemas.\nThis schema has 41 columns, other has 45\n\nThis error occurred while calling\n\n    ak.from_parquet(\n        '/work/dvalsecc/ttHbb/ttHbb_jets_partons_studies/sig_bkg_3'...\n    )"
     ]
    }
   ],
   "source": [
    "df = ak.from_parquet(basedir)"
   ]
  },
  {
   "cell_type": "code",
   "execution_count": null,
   "id": "c7d211a6-c7a1-4adb-97c9-a6638ad00e42",
   "metadata": {
    "tags": []
   },
   "outputs": [],
   "source": [
    "df.fields"
   ]
  },
  {
   "cell_type": "code",
   "execution_count": null,
   "id": "4e68c183-811d-4452-8085-6c075f0be030",
   "metadata": {
    "tags": []
   },
   "outputs": [],
   "source": [
    "(jets,_,_,_,_,lep, met,_, weight) = ak.unzip(df)\n",
    "jets = ak.with_name(jets, name=\"Momentum4D\")\n",
    "lep = ak.with_name(lep, name=\"Momentum4D\")\n",
    "met = ak.with_name(met, name=\"Momentum4D\")"
   ]
  },
  {
   "cell_type": "code",
   "execution_count": 8,
   "id": "8a739cfb-91af-4689-bfc3-efdebd7f0938",
   "metadata": {
    "tags": []
   },
   "outputs": [
    {
     "data": {
      "image/png": "[encoded data removed]",
      "text/plain": [
       "<Figure size 1000x1000 with 1 Axes>"
      ]
     },
     "metadata": {},
     "output_type": "display_data"
    }
   ],
   "source": [
    "plt.hist(ak.num(jets))\n",
    "plt.yscale(\"log\")"
   ]
  },
  {
   "cell_type": "code",
   "execution_count": 6,
   "id": "b99b6805-b901-4b4b-b797-b615601b7996",
   "metadata": {
    "tags": []
   },
   "outputs": [
    {
     "name": "stdout",
     "output_type": "stream",
     "text": [
      "Source_data, ['batch_size', 'num_Source', 4]\n",
      "Source_mask, ['batch_size', 'num_Source']\n",
      "Met_data, ['batch_size', 'num_Met', 3]\n",
      "Met_mask, ['batch_size', 'num_Met']\n",
      "Lepton_data, ['batch_size', 'num_Lepton', 3]\n",
      "Lepton_mask, ['batch_size', 'num_Lepton']\n",
      "ht_data, ['batch_size', 'num_ht', 1]\n",
      "ht_mask, ['batch_size', 'num_ht']\n",
      "t1_assignment_log_probability, ['Reshapet1_assignment_log_probability_dim_0', 'Reshapet1_assignment_log_probability_dim_1', 'Reshapet1_assignment_log_probability_dim_2', 'Reshapet1_assignment_log_probability_dim_3']\n",
      "t2_assignment_log_probability, ['Reshapet2_assignment_log_probability_dim_0', 'Reshapet2_assignment_log_probability_dim_1']\n",
      "h_assignment_log_probability, ['Reshapeh_assignment_log_probability_dim_0', 'Reshapeh_assignment_log_probability_dim_1', 'Reshapeh_assignment_log_probability_dim_2']\n",
      "t1_detection_log_probability, ['Logt1_detection_log_probability_dim_0']\n",
      "t2_detection_log_probability, ['Logt1_detection_log_probability_dim_0']\n",
      "h_detection_log_probability, ['Logt1_detection_log_probability_dim_0']\n"
     ]
    },
    {
     "name": "stderr",
     "output_type": "stream",
     "text": [
      "2023-09-04 22:41:11.618771148 [W:onnxruntime:Default, onnxruntime_pybind_state.cc:640 CreateExecutionProviderInstance] Failed to create CUDAExecutionProvider. Please reference https://onnxruntime.ai/docs/execution-providers/CUDA-ExecutionProvider.html#requirements to ensure all dependencies are met.\n"
     ]
    }
   ],
   "source": [
    "import onnxruntime    # to inference ONNX models, we use the ONNX Runtime\n",
    "sess_options = onnxruntime.SessionOptions()\n",
    "\n",
    "sess_options.intra_op_num_threads = 20\n",
    "sess_options.inter_op_num_threads = 2\n",
    "#sess_options.intra_op_num_threads = 15\n",
    "sess_options.execution_mode = onnxruntime.ExecutionMode.ORT_PARALLEL\n",
    "sess_options.graph_optimization_level = onnxruntime.GraphOptimizationLevel.ORT_ENABLE_ALL\n",
    "\n",
    "\n",
    "session = onnxruntime.InferenceSession(\n",
    "    \"/work/dvalsecc/ttHbb/ttHbb_jets_partons_studies/SPANET/spanet.onnx\", \n",
    "    sess_options = sess_options,\n",
    "    providers=['CUDAExecutionProvider', 'CPUExecutionProvider']\n",
    ")\n",
    "\n",
    "for input in session.get_inputs():\n",
    "    print(f\"{input.name}, {input.shape}\")\n",
    "    \n",
    "for output in session.get_outputs():\n",
    "    print(f\"{output.name}, {output.shape}\")"
   ]
  },
  {
   "cell_type": "code",
   "execution_count": 7,
   "id": "75384924-c88f-47d1-b157-5cfad719b693",
   "metadata": {
    "tags": []
   },
   "outputs": [],
   "source": [
    "jets_padded = ak.fill_none(ak.pad_none(jets, 16, clip=True), {\"btag\":0., \"pt\":0., \"phi\":0., \"eta\":0.})\n",
    "\n",
    "data = np.transpose(\n",
    "    np.stack([\n",
    "    ak.to_numpy(jets_padded.btag),\n",
    "    ak.to_numpy(jets_padded.eta),\n",
    "    ak.to_numpy(jets_padded.phi),\n",
    "    np.log(1 + ak.to_numpy(jets_padded.pt))]),\n",
    "    axes=[1,2,0]).astype(np.float32)\n",
    "\n",
    "mask = ~ak.to_numpy(jets_padded.pt == 0)\n",
    "\n",
    "met_data = np.stack([ak.to_numpy(met.eta),\n",
    "                     ak.to_numpy(met.phi),\n",
    "                     np.log(1+ ak.to_numpy(met.pt))], axis=1)[:,None,:].astype(np.float32)\n",
    "\n",
    "lep_data = np.stack([ak.to_numpy(lep[:,0].eta),\n",
    "                     ak.to_numpy(lep[:,0].phi),\n",
    "                     np.log(1+ ak.to_numpy(lep[:,0].pt))], axis=1)[:,None,:].astype(np.float32)\n",
    "\n",
    "ht_array = np.sum(ak.to_numpy(jets_padded.pt), axis=1)[:,None, None].astype(np.float32)\n",
    "\n",
    "mask_global = np.ones(shape=[met_data.shape[0], 1]) == 1"
   ]
  },
  {
   "cell_type": "code",
   "execution_count": 8,
   "id": "7e33dda4-43d7-4aed-8945-ae4a9134b259",
   "metadata": {
    "tags": []
   },
   "outputs": [
    {
     "name": "stdout",
     "output_type": "stream",
     "text": [
      "nbatches=7000\n"
     ]
    }
   ],
   "source": [
    "batch_size = 512\n",
    "nbatches = data.shape[0]// batch_size\n",
    "print(f\"{nbatches=}\")"
   ]
  },
  {
   "cell_type": "code",
   "execution_count": null,
   "id": "320412c8-43f1-4a88-9ce6-ef11161dfb8c",
   "metadata": {
    "tags": []
   },
   "outputs": [
    {
     "data": {
      "application/vnd.jupyter.widget-view+json": {
       "model_id": "5d121dae21b6443bbf4f9c009a1098f6",
       "version_major": 2,
       "version_minor": 0
      },
      "text/plain": [
       "Output()"
      ]
     },
     "metadata": {},
     "output_type": "display_data"
    }
   ],
   "source": [
    "from rich.progress import track\n",
    "\n",
    "provenance = np.zeros((data.shape[0], 16))\n",
    "prob_assignment = np.zeros((data.shape[0], 16, 3))\n",
    "\n",
    "\n",
    "for i in track(range(nbatches), \"Inference\"):\n",
    "    start = i*batch_size\n",
    "    if i < (nbatches-1):\n",
    "        stop = start+batch_size\n",
    "    else:\n",
    "        stop = len(data)\n",
    "    outputs = session.run(input_feed={\n",
    "        \"Source_data\": data[start:stop],\n",
    "        \"Source_mask\": mask[start:stop],\n",
    "        \"Met_data\": met_data[start:stop],\n",
    "        \"Met_mask\": mask_global[start:stop],\n",
    "        \"Lepton_data\": lep_data[start:stop],\n",
    "        \"Lepton_mask\": mask_global[start:stop],\n",
    "        \"ht_data\": ht_array[start:stop], \n",
    "        \"ht_mask\": mask_global[start:stop]},\n",
    "        output_names=[\"t1_assignment_log_probability\", \"t2_assignment_log_probability\",\n",
    "                     \"h_assignment_log_probability\"]\n",
    "        )\n",
    "    preds_nomask = spanet_predictions.extract_predictions(outputs[0:3], masking=False)\n",
    "    prov, prob = assign_provenance_and_prob(*preds_nomask, outputs[0], outputs[1], outputs[2],16)\n",
    "    \n",
    "    provenance[start:stop] = prov\n",
    "    prob_assignment[start:stop]= prob"
   ]
  },
  {
   "cell_type": "code",
   "execution_count": 16,
   "id": "09523def-26cf-438d-b2d7-1df5f2f61c97",
   "metadata": {},
   "outputs": [
    {
     "data": {
      "text/plain": [
       "\u001b[0;31mSignature:\u001b[0m \u001b[0mak\u001b[0m\u001b[0;34m.\u001b[0m\u001b[0mwith_name\u001b[0m\u001b[0;34m(\u001b[0m\u001b[0marray\u001b[0m\u001b[0;34m,\u001b[0m \u001b[0mname\u001b[0m\u001b[0;34m,\u001b[0m \u001b[0mhighlevel\u001b[0m\u001b[0;34m=\u001b[0m\u001b[0;32mTrue\u001b[0m\u001b[0;34m,\u001b[0m \u001b[0mbehavior\u001b[0m\u001b[0;34m=\u001b[0m\u001b[0;32mNone\u001b[0m\u001b[0;34m)\u001b[0m\u001b[0;34m\u001b[0m\u001b[0;34m\u001b[0m\u001b[0m\n",
       "\u001b[0;31mDocstring:\u001b[0m\n",
       "Args:\n",
       "    base: Data containing records or tuples.\n",
       "    name (str): Name to give to the records or tuples; this assigns\n",
       "        the `\"__record__\"` parameter.\n",
       "    highlevel (bool): If True, return an #ak.Array; otherwise, return\n",
       "        a low-level #ak.layout.Content subclass.\n",
       "    behavior (None or dict): Custom #ak.behavior for the output array, if\n",
       "        high-level.\n",
       "\n",
       "Returns an #ak.Array or #ak.Record (or low-level equivalent, if\n",
       "`highlevel=False`) with a new name. This function does not change the\n",
       "array in-place.\n",
       "\n",
       "The records or tuples may be nested within multiple levels of nested lists.\n",
       "If records are nested within records, only the outermost are affected.\n",
       "\n",
       "Setting the `\"__record__\"` parameter makes it possible to add behaviors\n",
       "to the data; see #ak.Array and #ak.behavior for a more complete\n",
       "description.\n",
       "\u001b[0;31mFile:\u001b[0m      ~/micromamba/envs/pocket-coffea/lib/python3.9/site-packages/awkward/operations/structure.py\n",
       "\u001b[0;31mType:\u001b[0m      function"
      ]
     },
     "metadata": {},
     "output_type": "display_data"
    }
   ],
   "source": [
    "ak.with_name?"
   ]
  },
  {
   "cell_type": "code",
   "execution_count": 11,
   "id": "94411a3d-a722-4a3f-a2bb-0e7e7b5477b9",
   "metadata": {
    "tags": []
   },
   "outputs": [
    {
     "data": {
      "text/plain": [
       "(3584250, 16)"
      ]
     },
     "execution_count": 11,
     "metadata": {},
     "output_type": "execute_result"
    }
   ],
   "source": [
    "provenance.shape"
   ]
  },
  {
   "cell_type": "markdown",
   "id": "4c2d4d5d-d3b1-44fc-bdcb-9b070a62d1ec",
   "metadata": {},
   "source": [
    "## Removing the padding"
   ]
  },
  {
   "cell_type": "code",
   "execution_count": 21,
   "id": "244be07a-b5e3-4d89-a315-8f96497a4a06",
   "metadata": {
    "tags": []
   },
   "outputs": [
    {
     "data": {
      "text/plain": [
       "(3584250, 16, 3)"
      ]
     },
     "execution_count": 21,
     "metadata": {},
     "output_type": "execute_result"
    }
   ],
   "source": [
    "prob_assignment.shape"
   ]
  },
  {
   "cell_type": "code",
   "execution_count": 28,
   "id": "4803c658-4136-487a-a426-2d6b55f31e0c",
   "metadata": {
    "tags": []
   },
   "outputs": [],
   "source": [
    "ak.to_parquet(ak.zip({\"spanet_prob_assignment\": ak.from_numpy(prob_assignment)}), basedir + \"/spanet.parquet\" )"
   ]
  },
  {
   "cell_type": "code",
   "execution_count": 27,
   "id": "e2dcc0bb-443d-4f8b-8cd4-dfae336767d8",
   "metadata": {
    "tags": []
   },
   "outputs": [
    {
     "data": {
      "text/plain": [
       "array([ 3.,  3.,  1.,  2., -1., -1., -1., -1., -1., -1., -1., -1., -1.,\n",
       "       -1., -1., -1.])"
      ]
     },
     "execution_count": 27,
     "metadata": {},
     "output_type": "execute_result"
    }
   ],
   "source": [
    "provenance[3584249]"
   ]
  },
  {
   "cell_type": "code",
   "execution_count": 77,
   "id": "5034e8ec-7089-40c6-b2ad-4e4f1700bc1e",
   "metadata": {
    "tags": []
   },
   "outputs": [
    {
     "data": {
      "text/plain": [
       "<Array [5, 4, 4, 4, 6, 5, ... 7, 7, 5, 6, 5, 5] type='3584250 * int64'>"
      ]
     },
     "execution_count": 77,
     "metadata": {},
     "output_type": "execute_result"
    }
   ],
   "source": [
    "njets_good"
   ]
  },
  {
   "cell_type": "code",
   "execution_count": 83,
   "id": "d6be2caa-9a3e-4cf6-963e-acb3f37b4e4e",
   "metadata": {
    "tags": []
   },
   "outputs": [
    {
     "data": {
      "text/plain": [
       "array([[0.        , 0.69542316, 0.23063106],\n",
       "       [0.16833067, 0.        , 0.        ],\n",
       "       [0.16833067, 0.        , 0.23063106],\n",
       "       [0.16833067, 0.        , 0.        ],\n",
       "       [0.        , 0.        , 0.        ],\n",
       "       [0.        , 0.        , 0.        ],\n",
       "       [0.        , 0.        , 0.        ],\n",
       "       [0.        , 0.        , 0.        ],\n",
       "       [0.        , 0.        , 0.        ],\n",
       "       [0.        , 0.        , 0.        ],\n",
       "       [0.        , 0.        , 0.        ],\n",
       "       [0.        , 0.        , 0.        ],\n",
       "       [0.        , 0.        , 0.        ],\n",
       "       [0.        , 0.        , 0.        ],\n",
       "       [0.        , 0.        , 0.        ],\n",
       "       [0.        , 0.        , 0.        ]])"
      ]
     },
     "execution_count": 83,
     "metadata": {},
     "output_type": "execute_result"
    }
   ],
   "source": [
    "prob_assignment[5]"
   ]
  },
  {
   "cell_type": "code",
   "execution_count": 14,
   "id": "01f1d18e-e857-4759-9b60-ae744fc372b2",
   "metadata": {
    "tags": []
   },
   "outputs": [],
   "source": [
    "prob_assignment = np.exp(prob_assignment)\n"
   ]
  },
  {
   "cell_type": "code",
   "execution_count": 15,
   "id": "0ac6ac4b-215b-4ae2-8cb9-05d03759cb90",
   "metadata": {
    "tags": []
   },
   "outputs": [
    {
     "data": {
      "text/plain": [
       "<Array [{jets: [, ... weight: 2.56e+03}] type='3584250 * {\"jets\": var * {\"pt\": f...'>"
      ]
     },
     "execution_count": 15,
     "metadata": {},
     "output_type": "execute_result"
    }
   ],
   "source": [
    "new_array = ak.zip(dict(zip(ak.fields(df), ak.unzip(df))) | {\"prov_spanet\": })"
   ]
  },
  {
   "cell_type": "code",
   "execution_count": 25,
   "id": "72921f32-fee7-45f2-9aa8-2511da543340",
   "metadata": {
    "tags": []
   },
   "outputs": [
    {
     "data": {
      "text/plain": [
       "(1344266, 16, 3)"
      ]
     },
     "execution_count": 25,
     "metadata": {},
     "output_type": "execute_result"
    }
   ],
   "source": [
    "prob_assignment.shape"
   ]
  },
  {
   "cell_type": "code",
   "execution_count": 31,
   "id": "f7cf6187-783d-4d4a-9346-0115e378f876",
   "metadata": {
    "tags": []
   },
   "outputs": [],
   "source": [
    "njets_good = ak.sum(mask, axis=1)"
   ]
  },
  {
   "cell_type": "code",
   "execution_count": 32,
   "id": "c6e9be8d-2c0d-463c-a3ff-8ea4d45d8a91",
   "metadata": {
    "tags": []
   },
   "outputs": [
    {
     "data": {
      "text/plain": [
       "<Array [5, 4, 4, 4, 6, 5, ... 7, 7, 5, 6, 5, 5] type='3584250 * int64'>"
      ]
     },
     "execution_count": 32,
     "metadata": {},
     "output_type": "execute_result"
    }
   ],
   "source": [
    "njets_good"
   ]
  },
  {
   "cell_type": "code",
   "execution_count": 35,
   "id": "028b8aa6-91ed-4457-b68c-2d5b649d8558",
   "metadata": {
    "tags": []
   },
   "outputs": [
    {
     "data": {
      "text/plain": [
       "(3584250, 16, 3)"
      ]
     },
     "execution_count": 35,
     "metadata": {},
     "output_type": "execute_result"
    }
   ],
   "source": [
    "prob_assignment.shape"
   ]
  },
  {
   "cell_type": "code",
   "execution_count": 38,
   "id": "a631850c-ef9c-4019-ba45-5e01bea22915",
   "metadata": {
    "tags": []
   },
   "outputs": [],
   "source": [
    "prob_assign_reshape = np.reshape(prob_assignment, (-1, 3) )"
   ]
  },
  {
   "cell_type": "code",
   "execution_count": 43,
   "id": "c3dd100b-552c-435b-a4be-83a4dc0c739a",
   "metadata": {
    "tags": []
   },
   "outputs": [],
   "source": [
    "prob_masked = prob_assign_reshape[mask.flatten()]"
   ]
  },
  {
   "cell_type": "code",
   "execution_count": 47,
   "id": "10ac0752-e7f4-441a-8725-4067bd4c9b6d",
   "metadata": {
    "tags": []
   },
   "outputs": [],
   "source": [
    "prob_ak = ak.unflatten(ak.from_numpy(prob_masked), njets_good)"
   ]
  },
  {
   "cell_type": "code",
   "execution_count": 48,
   "id": "bb894b9c-0fad-4ab6-8d48-9aab4defdd9d",
   "metadata": {
    "tags": []
   },
   "outputs": [
    {
     "data": {
      "text/plain": [
       "<Array [[[0, 0.664, 0], ... [0, 0, 0]]] type='3584250 * var * 3 * float64'>"
      ]
     },
     "execution_count": 48,
     "metadata": {},
     "output_type": "execute_result"
    }
   ],
   "source": [
    "prob_ak"
   ]
  },
  {
   "cell_type": "code",
   "execution_count": 50,
   "id": "2d80ff90-0149-498d-b6d1-574b7fe2bbb6",
   "metadata": {
    "tags": []
   },
   "outputs": [
    {
     "data": {
      "text/plain": [
       "<Array [5, 4, 4, 4, 6, 5, ... 7, 7, 5, 6, 5, 5] type='3584250 * int64'>"
      ]
     },
     "execution_count": 50,
     "metadata": {},
     "output_type": "execute_result"
    }
   ],
   "source": [
    "ak.num(prob_ak)"
   ]
  },
  {
   "cell_type": "code",
   "execution_count": 51,
   "id": "6e7a36e3-2b6b-4f73-929a-0342ca287e7b",
   "metadata": {
    "tags": []
   },
   "outputs": [
    {
     "data": {
      "text/plain": [
       "<Array [5, 4, 4, 4, 6, 5, ... 7, 7, 5, 6, 5, 5] type='3584250 * int64'>"
      ]
     },
     "execution_count": 51,
     "metadata": {},
     "output_type": "execute_result"
    }
   ],
   "source": [
    "njets_good"
   ]
  },
  {
   "cell_type": "code",
   "execution_count": 58,
   "id": "334dc466-c1ea-4a58-b094-174b3b592199",
   "metadata": {
    "tags": []
   },
   "outputs": [
    {
     "data": {
      "text/plain": [
       "[[0.0, 0.9990558011253297, 0.0],\n",
       " [0.0, 0.0, 0.48863674462167134],\n",
       " [0.34225123967733967, 0.0, 0.0],\n",
       " [0.34225123967733967, 0.0, 0.48863674462167134],\n",
       " [0.34225123967733967, 0.0, 0.0]]"
      ]
     },
     "execution_count": 58,
     "metadata": {},
     "output_type": "execute_result"
    }
   ],
   "source": [
    "prob_ak[6].tolist()"
   ]
  },
  {
   "cell_type": "code",
   "execution_count": 64,
   "id": "44910541-b799-46b3-b5d3-047a3eee69db",
   "metadata": {
    "tags": []
   },
   "outputs": [
    {
     "ename": "TypeError",
     "evalue": "unhashable type: 'dict'",
     "output_type": "error",
     "traceback": [
      "\u001b[0;31m---------------------------------------------------------------------------\u001b[0m",
      "\u001b[0;31mTypeError\u001b[0m                                 Traceback (most recent call last)",
      "Cell \u001b[0;32mIn[64], line 1\u001b[0m\n\u001b[0;32m----> 1\u001b[0m ak\u001b[38;5;241m.\u001b[39mto_parquet(ak\u001b[38;5;241m.\u001b[39mzip({\u001b[38;5;124m\"\u001b[39m\u001b[38;5;124mspanet_prob_assignment\u001b[39m\u001b[38;5;124m\"\u001b[39m: prob_ak, \u001b[38;5;241m*\u001b[39m\u001b[38;5;241m*\u001b[39m{\u001b[38;5;28mdict\u001b[39m(\u001b[38;5;28mzip\u001b[39m(ak\u001b[38;5;241m.\u001b[39mfields(df), ak\u001b[38;5;241m.\u001b[39munzip(df)))}}), basedir \u001b[38;5;241m+\u001b[39m \u001b[38;5;124m\"\u001b[39m\u001b[38;5;124m/signal_all_with_spanet.parquet\u001b[39m\u001b[38;5;124m\"\u001b[39m )\n",
      "\u001b[0;31mTypeError\u001b[0m: unhashable type: 'dict'"
     ]
    }
   ],
   "source": []
  },
  {
   "cell_type": "code",
   "execution_count": 66,
   "id": "36d50196-21f7-4636-a86a-81992b4ba5e3",
   "metadata": {
    "tags": []
   },
   "outputs": [
    {
     "data": {
      "text/plain": [
       "<Array [[[0, 0.664, 0], ... [0, 0, 0]]] type='3584250 * var * 3 * float64'>"
      ]
     },
     "execution_count": 66,
     "metadata": {},
     "output_type": "execute_result"
    }
   ],
   "source": [
    "prob_ak"
   ]
  },
  {
   "cell_type": "code",
   "execution_count": 96,
   "id": "76e1c4da-eec2-42c5-b5a4-7ecbb7558d37",
   "metadata": {
    "tags": []
   },
   "outputs": [],
   "source": [
    "df[\"prob_ak\"] = prob_ak\n",
    "\n",
    "df[\"jets\"] = ak.zip( dict(zip(df.jets.fields,ak.unzip(df.jets))) |  {\"prov_Thad\": prob_ak[:,:,0],\"prov_Tlep\": prob_ak[:,:,1],\"prov_H\": prob_ak[:,:,2]})"
   ]
  },
  {
   "cell_type": "code",
   "execution_count": 99,
   "id": "929aef67-17ce-424e-8b55-252ffdbcdfc4",
   "metadata": {
    "tags": []
   },
   "outputs": [
    {
     "data": {
      "text/plain": [
       "<Array [[0, 0.444, 0.444, ... 0.426, 0, 0]] type='3584250 * var * float64'>"
      ]
     },
     "execution_count": 99,
     "metadata": {},
     "output_type": "execute_result"
    }
   ],
   "source": [
    "df.jets.prov_Thad"
   ]
  },
  {
   "cell_type": "code",
   "execution_count": 105,
   "id": "910a2e3b-5b8c-444e-a3a5-4c3e33247d56",
   "metadata": {
    "tags": []
   },
   "outputs": [],
   "source": [
    "ak.to_parquet(df, basedir + \"/all_jets_fullRun2_ttHbb_forTraining_allyears_spanetprov.parquet\")"
   ]
  },
  {
   "cell_type": "code",
   "execution_count": 104,
   "id": "e87f8ee8-63df-4202-b07f-3fb73ceac0ad",
   "metadata": {
    "tags": []
   },
   "outputs": [
    {
     "data": {
      "text/plain": [
       "<Array [[0, 0.444, 0.444, ... 0.426, 0, 0]] type='3584250 * var * float64'>"
      ]
     },
     "execution_count": 104,
     "metadata": {},
     "output_type": "execute_result"
    }
   ],
   "source": [
    "prob_ak[:,:,0]"
   ]
  },
  {
   "cell_type": "code",
   "execution_count": 119,
   "id": "3d9a1471-e61f-4c95-a3d8-014e494320b2",
   "metadata": {
    "tags": []
   },
   "outputs": [
    {
     "data": {
      "text/plain": [
       "<Array [True, True, True, ... True, True, True] type='3584250 * bool'>"
      ]
     },
     "execution_count": 119,
     "metadata": {},
     "output_type": "execute_result"
    }
   ],
   "source": []
  },
  {
   "cell_type": "code",
   "execution_count": 122,
   "id": "87222123-118e-4001-b08d-d466f76fcc8a",
   "metadata": {
    "tags": []
   },
   "outputs": [
    {
     "data": {
      "text/plain": [
       "<Array [[0, 0, 0, 0.335, ... 0, 0, 0, 0]] type='1784384 * var * float64'>"
      ]
     },
     "execution_count": 122,
     "metadata": {},
     "output_type": "execute_result"
    }
   ],
   "source": [
    "df.jets[(njets_good >= 6)].prov_H"
   ]
  },
  {
   "cell_type": "code",
   "execution_count": 121,
   "id": "bfdb1c60-e518-4bd3-8c98-3030c3f71458",
   "metadata": {
    "tags": []
   },
   "outputs": [
    {
     "data": {
      "text/plain": [
       "(array([8.35185e+06, 0.00000e+00, 0.00000e+00, 0.00000e+00, 3.40000e+01,\n",
       "        4.40000e+02, 2.56800e+03, 8.54000e+03, 2.17300e+04, 4.11400e+04,\n",
       "        6.65880e+04, 9.42300e+04, 1.22450e+05, 1.46010e+05, 1.64298e+05,\n",
       "        1.77554e+05, 1.85120e+05, 1.89626e+05, 1.91142e+05, 1.90004e+05,\n",
       "        1.79784e+05, 1.65154e+05, 1.52148e+05, 1.38878e+05, 1.29014e+05,\n",
       "        1.17910e+05, 1.09490e+05, 1.01984e+05, 9.47940e+04, 8.77440e+04,\n",
       "        8.27880e+04, 7.72000e+04, 7.27660e+04, 6.97440e+04, 6.65360e+04,\n",
       "        6.41260e+04, 6.30320e+04, 6.24400e+04, 6.45400e+04, 6.72220e+04]),\n",
       " array([0.        , 0.01249985, 0.02499969, 0.03749954, 0.04999938,\n",
       "        0.06249923, 0.07499907, 0.08749892, 0.09999876, 0.11249861,\n",
       "        0.12499845, 0.1374983 , 0.14999814, 0.16249799, 0.17499783,\n",
       "        0.18749768, 0.19999752, 0.21249737, 0.22499721, 0.23749706,\n",
       "        0.2499969 , 0.26249675, 0.27499659, 0.28749644, 0.29999628,\n",
       "        0.31249613, 0.32499597, 0.33749582, 0.34999566, 0.36249551,\n",
       "        0.37499535, 0.3874952 , 0.39999504, 0.41249489, 0.42499473,\n",
       "        0.43749458, 0.44999442, 0.46249427, 0.47499411, 0.48749396,\n",
       "        0.4999938 ]),\n",
       " <BarContainer object of 40 artists>)"
      ]
     },
     "execution_count": 121,
     "metadata": {},
     "output_type": "execute_result"
    },
    {
     "data": {
      "image/png": "[encoded data removed]",
      "text/plain": [
       "<Figure size 1000x1000 with 1 Axes>"
      ]
     },
     "metadata": {},
     "output_type": "display_data"
    }
   ],
   "source": [
    "plt.hist(ak.flatten(df.jets[(njets_good >= 6)].prov_H), bins=40)"
   ]
  },
  {
   "cell_type": "code",
   "execution_count": 111,
   "id": "93b871da-54fa-43e9-924f-4057ac3e86fb",
   "metadata": {
    "tags": []
   },
   "outputs": [
    {
     "data": {
      "text/plain": [
       "(array([9.0189e+05, 3.0000e+00, 7.8000e+01, 6.5000e+02, 2.7210e+03,\n",
       "        7.1340e+03, 1.4481e+04, 2.3733e+04, 3.3990e+04, 4.4253e+04,\n",
       "        5.3856e+04, 6.1846e+04, 6.8084e+04, 7.3658e+04, 7.6593e+04,\n",
       "        7.8191e+04, 7.9870e+04, 7.9699e+04, 8.0602e+04, 8.2467e+04,\n",
       "        8.0757e+04, 7.6304e+04, 7.2172e+04, 6.8407e+04, 6.5100e+04,\n",
       "        6.2020e+04, 5.9703e+04, 5.7174e+04, 5.5444e+04, 5.3355e+04,\n",
       "        5.2235e+04, 5.1278e+04, 4.9547e+04, 4.9307e+04, 4.9560e+04,\n",
       "        5.0199e+04, 5.2067e+04, 5.5967e+04, 6.5861e+04, 9.3668e+04]),\n",
       " array([0.        , 0.01249889, 0.02499778, 0.03749667, 0.04999557,\n",
       "        0.06249446, 0.07499335, 0.08749224, 0.09999113, 0.11249002,\n",
       "        0.12498891, 0.13748781, 0.1499867 , 0.16248559, 0.17498448,\n",
       "        0.18748337, 0.19998226, 0.21248115, 0.22498004, 0.23747894,\n",
       "        0.24997783, 0.26247672, 0.27497561, 0.2874745 , 0.29997339,\n",
       "        0.31247228, 0.32497118, 0.33747007, 0.34996896, 0.36246785,\n",
       "        0.37496674, 0.38746563, 0.39996452, 0.41246342, 0.42496231,\n",
       "        0.4374612 , 0.44996009, 0.46245898, 0.47495787, 0.48745676,\n",
       "        0.49995566]),\n",
       " <BarContainer object of 40 artists>)"
      ]
     },
     "execution_count": 111,
     "metadata": {},
     "output_type": "execute_result"
    },
    {
     "data": {
      "image/png": "[encoded data removed]",
      "text/plain": [
       "<Figure size 1000x1000 with 1 Axes>"
      ]
     },
     "metadata": {},
     "output_type": "display_data"
    }
   ],
   "source": [
    "plt.hist(ak.flatten(df.jets[df.jets.prov==2].prov_Thad), bins=40)"
   ]
  },
  {
   "cell_type": "code",
   "execution_count": 125,
   "id": "fb7930bd-baf1-4d27-8ea1-673ee0b24cba",
   "metadata": {
    "tags": []
   },
   "outputs": [
    {
     "data": {
      "text/plain": [
       "(array([1.6696235e+07, 0.0000000e+00, 0.0000000e+00, 0.0000000e+00,\n",
       "        0.0000000e+00, 0.0000000e+00, 0.0000000e+00, 9.0000000e+00,\n",
       "        7.3000000e+01, 5.5400000e+02, 2.8940000e+03, 1.0056000e+04,\n",
       "        2.2428000e+04, 4.5967000e+04, 7.7955000e+04, 1.0391200e+05,\n",
       "        1.2470800e+05, 1.4067600e+05, 1.5593600e+05, 1.7763600e+05,\n",
       "        2.0003100e+05, 1.8590100e+05, 1.7232900e+05, 1.5908800e+05,\n",
       "        1.4757500e+05, 1.3757800e+05, 1.2864100e+05, 1.1992100e+05,\n",
       "        1.1355500e+05, 1.0669500e+05, 1.0229600e+05, 9.8007000e+04,\n",
       "        9.4966000e+04, 9.3555000e+04, 9.3163000e+04, 9.5302000e+04,\n",
       "        1.0002700e+05, 1.1189100e+05, 1.3816600e+05, 3.2275900e+05]),\n",
       " array([0.        , 0.02499999, 0.04999998, 0.07499996, 0.09999995,\n",
       "        0.12499994, 0.14999993, 0.17499992, 0.1999999 , 0.22499989,\n",
       "        0.24999988, 0.27499987, 0.29999986, 0.32499985, 0.34999983,\n",
       "        0.37499982, 0.39999981, 0.4249998 , 0.44999979, 0.47499977,\n",
       "        0.49999976, 0.52499975, 0.54999974, 0.57499973, 0.59999971,\n",
       "        0.6249997 , 0.64999969, 0.67499968, 0.69999967, 0.72499965,\n",
       "        0.74999964, 0.77499963, 0.79999962, 0.82499961, 0.84999959,\n",
       "        0.87499958, 0.89999957, 0.92499956, 0.94999955, 0.97499954,\n",
       "        0.99999952]),\n",
       " <BarContainer object of 40 artists>)"
      ]
     },
     "execution_count": 125,
     "metadata": {},
     "output_type": "execute_result"
    },
    {
     "data": {
      "image/png": "[encoded data removed]",
      "text/plain": [
       "<Figure size 1000x1000 with 1 Axes>"
      ]
     },
     "metadata": {},
     "output_type": "display_data"
    }
   ],
   "source": [
    "plt.hist(ak.flatten(df.jets.prov_Tlep), bins=40)"
   ]
  },
  {
   "cell_type": "code",
   "execution_count": null,
   "id": "0bbb7168-73ff-4f9d-b807-ef3016bdd91c",
   "metadata": {
    "tags": []
   },
   "outputs": [],
   "source": [
    "ak.__version__"
   ]
  },
  {
   "cell_type": "code",
   "execution_count": null,
   "id": "94f4355c-9354-43d6-98fd-fa29b512cf97",
   "metadata": {},
   "outputs": [],
   "source": []
  }
 ],
 "metadata": {
  "kernelspec": {
   "display_name": "Python 3 (ipykernel)",
   "language": "python",
   "name": "python3"
  },
  "language_info": {
   "codemirror_mode": {
    "name": "ipython",
    "version": 3
   },
   "file_extension": ".py",
   "mimetype": "text/x-python",
   "name": "python",
   "nbconvert_exporter": "python",
   "pygments_lexer": "ipython3",
   "version": "3.9.17"
  }
 },
 "nbformat": 4,
 "nbformat_minor": 5
}
