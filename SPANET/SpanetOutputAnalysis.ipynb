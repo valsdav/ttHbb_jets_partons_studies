{
 "cells": [
  {
   "cell_type": "code",
   "execution_count": 88,
   "id": "3f3af498-1c39-433a-8874-842a3139e0cf",
   "metadata": {},
   "outputs": [
    {
     "name": "stdout",
     "output_type": "stream",
     "text": [
      "0903_output_v5_matched.h5\t RamboTest.ipynb\n",
      "GenLevelDataset.ipynb\t\t SpanetOutputAnalysis.ipynb\n",
      "GenLevelPlots.ipynb\t\t __pycache__\n",
      "IncomingPartonsFlow.ipynb\t all_jets_v6.parquet\n",
      "JetGraphProducer.py\t\t jet_tagging_combinatorial\n",
      "JetTagging_initial_debug.ipynb\t loss_plot.png\n",
      "PyTorchGraphDatasetLoader.ipynb  plot_loss.py\n",
      "README.md\t\t\t tth_matched_2.h5\n",
      "README.md~\n"
     ]
    }
   ],
   "source": [
    "!ls"
   ]
  },
  {
   "cell_type": "code",
   "execution_count": 211,
   "id": "59d0200d-d7ba-4971-8634-f8cb3b87d714",
   "metadata": {},
   "outputs": [],
   "source": [
    "import h5py\n",
    "import awkward as ak\n",
    "import vector\n",
    "import numpy as np\n",
    "import matplotlib.pyplot as plt\n",
    "vector.register_awkward()"
   ]
  },
  {
   "cell_type": "code",
   "execution_count": 89,
   "id": "e7436de2-ebe9-4a37-bb57-4d7b23b97dec",
   "metadata": {},
   "outputs": [],
   "source": [
    "df = h5py.File('0903_output_v5_matched.h5','r')\n",
    "df_input = h5py.File('tth_matched_2.h5','r')"
   ]
  },
  {
   "cell_type": "code",
   "execution_count": 84,
   "id": "5e461a19-24af-480f-aadc-f58a93b17020",
   "metadata": {},
   "outputs": [
    {
     "data": {
      "text/plain": [
       "<KeysViewHDF5 ['INPUTS', 'TARGETS']>"
      ]
     },
     "execution_count": 84,
     "metadata": {},
     "output_type": "execute_result"
    }
   ],
   "source": [
    "df.keys()"
   ]
  },
  {
   "cell_type": "code",
   "execution_count": 38,
   "id": "5551beb3-f2d4-49cc-b427-a316de30cea3",
   "metadata": {},
   "outputs": [
    {
     "data": {
      "text/plain": [
       "(67876, 7)"
      ]
     },
     "execution_count": 38,
     "metadata": {},
     "output_type": "execute_result"
    }
   ],
   "source": [
    "df[\"INPUTS\"][\"Source\"][\"eta\"][()].shape\n"
   ]
  },
  {
   "cell_type": "code",
   "execution_count": 103,
   "id": "b2a85237-33f0-4524-97da-b3ad88cf236e",
   "metadata": {},
   "outputs": [
    {
     "data": {
      "text/plain": [
       "<KeysViewHDF5 ['INPUTS', 'TARGETS']>"
      ]
     },
     "execution_count": 103,
     "metadata": {},
     "output_type": "execute_result"
    }
   ],
   "source": [
    "df_input.keys()"
   ]
  },
  {
   "cell_type": "code",
   "execution_count": 223,
   "id": "e9d98552-d5e3-46b6-b2e5-e4d6516ff540",
   "metadata": {},
   "outputs": [],
   "source": [
    "fields = ['pt','eta','phi','btag']\n",
    "jets = ak.zip({\n",
    "    f: df[\"INPUTS\"][\"Source\"][f][()] for f in fields\n",
    "}, with_name=\"Momentum4D\")\n",
    "jets[\"m\"] = np.zeros_like(jets.pt)"
   ]
  },
  {
   "cell_type": "code",
   "execution_count": 227,
   "id": "af25233a-ca05-4729-8f94-a96aa590d0ed",
   "metadata": {},
   "outputs": [],
   "source": [
    "jets = ak.drop_none(ak.mask(jets, jets.pt > 0))"
   ]
  },
  {
   "cell_type": "code",
   "execution_count": 228,
   "id": "3f73031e-f5f6-471a-9c48-fbc77c0fd0c4",
   "metadata": {},
   "outputs": [],
   "source": [
    "H_b1_true = ak.Array(df_input[\"TARGETS\"][\"h\"][\"b1\"][()])\n",
    "H_b2_true = ak.Array(df_input[\"TARGETS\"][\"h\"][\"b2\"][()])\n",
    "\n",
    "# Trick to make it a var-formatted array with 1 element per row\n",
    "H_b1_true = ak.unflatten(H_b1_true, ak.ones_like(H_b1_true))\n",
    "H_b2_true = ak.unflatten(H_b2_true, ak.ones_like(H_b2_true))\n",
    "\n",
    "higgs_index_true = ak.concatenate((H_b1_true, H_b2_true), axis=1)\n",
    "higgs_jet_true = jets[higgs_index_true]"
   ]
  },
  {
   "cell_type": "code",
   "execution_count": 232,
   "id": "b96812dd-941b-4586-9a46-cc3ed9ac51fa",
   "metadata": {},
   "outputs": [
    {
     "data": {
      "image/png": "[encoded data removed]",
      "text/plain": [
       "<Figure size 640x480 with 1 Axes>"
      ]
     },
     "metadata": {},
     "output_type": "display_data"
    }
   ],
   "source": [
    "plt.hist((higgs_jet_true[:,0] + higgs_jet_true[:,1]).m, bins=100);"
   ]
  },
  {
   "cell_type": "code",
   "execution_count": null,
   "id": "1e0ef395-57d1-4f62-8ea5-6f3533d48bfa",
   "metadata": {},
   "outputs": [],
   "source": []
  }
 ],
 "metadata": {
  "kernelspec": {
   "display_name": "Python 3 (ipykernel)",
   "language": "python",
   "name": "python3"
  },
  "language_info": {
   "codemirror_mode": {
    "name": "ipython",
    "version": 3
   },
   "file_extension": ".py",
   "mimetype": "text/x-python",
   "name": "python",
   "nbconvert_exporter": "python",
   "pygments_lexer": "ipython3",
   "version": "3.9.14"
  }
 },
 "nbformat": 4,
 "nbformat_minor": 5
}
