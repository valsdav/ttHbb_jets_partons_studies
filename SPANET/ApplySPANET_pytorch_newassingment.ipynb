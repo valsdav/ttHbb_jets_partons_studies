{
 "cells": [
  {
   "cell_type": "code",
   "execution_count": 1,
   "id": "4fd10269-367d-4226-a924-4119e1087890",
   "metadata": {
    "tags": []
   },
   "outputs": [],
   "source": [
    "import awkward as ak\n",
    "import numba\n",
    "import numpy as np\n",
    "import pandas as pd\n",
    "import awkward as ak\n",
    "import vector\n",
    "vector.register_numba()\n",
    "vector.register_awkward()\n",
    "import os\n",
    "\n",
    "import matplotlib.pyplot as plt\n",
    "from matplotlib.colors import LogNorm\n",
    "import mplhep as hep\n",
    "hep.style.use(hep.style.ROOT)\n",
    "\n",
    "from importlib import reload\n",
    "\n",
    "import numba\n",
    "import spanet_predictions\n",
    "# New assignment from Matej\n",
    "from spanet_assignments import assign_prov_higgs_first"
   ]
  },
  {
   "cell_type": "code",
   "execution_count": 20,
   "id": "3fbcc4b8-f31d-4aee-9716-705a0129b5d7",
   "metadata": {},
   "outputs": [
    {
     "data": {
      "text/plain": [
       "'/work/dvalsecc/ttHbb/ttHbb_jets_partons_studies/SPANET'"
      ]
     },
     "execution_count": 20,
     "metadata": {},
     "output_type": "execute_result"
    }
   ],
   "source": [
    "pwd"
   ]
  },
  {
   "cell_type": "code",
   "execution_count": 3,
   "id": "316b3504-3e05-4667-adf7-67b57d8eab55",
   "metadata": {
    "tags": []
   },
   "outputs": [],
   "source": [
    "@numba.njit\n",
    "def assign_provenance_and_prob(t1pred, t2pred, hpred, \n",
    "                      t1prob, t2prob, hprob, njets):\n",
    "    out = np.zeros((t1pred.shape[0], njets)) -1\n",
    "    prob = np.zeros((t1pred.shape[0], njets, 3), dtype=np.float32)-np.float32(np.inf)\n",
    "    \n",
    "    #print(prob)\n",
    "    for iev, (t1, t2, h, t1p, t2p, hp) in enumerate(zip(t1pred, t2pred, hpred, t1prob, t2prob, hprob)):\n",
    "    \n",
    "        if t1[0] == -2:\n",
    "            prob_t1 = -np.inf\n",
    "        else:\n",
    "            prob_t1 = t1p[t1[0]][t1[1]][t1[2]]\n",
    "            \n",
    "        if t2[0] == -2:\n",
    "            prob_t2 = -np.inf\n",
    "        else:\n",
    "            prob_t2 = t2p[t2[0]]\n",
    "            \n",
    "        if h[0] == -2:\n",
    "            prob_h = -np.inf\n",
    "        else:\n",
    "            prob_h = hp[h[0]][h[1]]\n",
    "            \n",
    "        \n",
    "        # prob_t1 = t1p[t1[0]][t1[1]][t1[2]]\n",
    "        # prob_t2 = t2p[t2[0]][t2[1]]\n",
    "        # prob_h = hp[h[0]][h[1]]\n",
    "        # print(prob_t1, prob_t2, prob_h)\n",
    "        \n",
    "        for i in t1: \n",
    "            out[iev][i] = 1\n",
    "            prob[iev][i][0] = prob_t1\n",
    "        for i in t2: \n",
    "            out[iev][i] = 2\n",
    "            prob[iev][i][1] = prob_t2\n",
    "        for i in h: \n",
    "            out[iev][i] = 3\n",
    "            prob[iev][i][2] = prob_h\n",
    "\n",
    "    return out, prob"
   ]
  },
  {
   "cell_type": "code",
   "execution_count": 49,
   "id": "d8bdcf75-c4d6-4082-8e4e-a11597eed451",
   "metadata": {},
   "outputs": [],
   "source": [
    "@numba.njit\n",
    "def get_assignment_indices(prov, njets):\n",
    "    h_idx = np.ones((prov.shape[0], 2), dtype=np.int8)*-1\n",
    "    thad_w_idx = np.ones((prov.shape[0], 2), dtype=np.int8)*-1\n",
    "    thad_b_idx = np.ones((prov.shape[0], 1), dtype=np.int8)*-1\n",
    "    tlep_idx = np.ones((prov.shape[0], 1), dtype=np.int8)*-1\n",
    "    \n",
    "    for ev, jets in enumerate(prov):\n",
    "        #indicies for higgs and thad filling \n",
    "        nh, nthad = 0,0\n",
    "        for i, p in enumerate(jets):\n",
    "            if p == 1:\n",
    "                h_idx[ev, nh] = i\n",
    "                nh +=1\n",
    "            elif p == 2:\n",
    "                thad_b_idx[ev,0] = i\n",
    "            elif p== 3:\n",
    "                tlep_idx[ev, 0] = i\n",
    "            elif p== 5:\n",
    "                thad_w_idx[ev, nthad] = i\n",
    "                nthad+=1\n",
    "    return  h_idx,thad_w_idx,thad_b_idx,tlep_idx"
   ]
  },
  {
   "cell_type": "markdown",
   "id": "43c7f86e-8661-4398-b721-76d69e76de1b",
   "metadata": {},
   "source": [
    "# Use the onnx export"
   ]
  },
  {
   "cell_type": "code",
   "execution_count": 4,
   "id": "34969e58-80b7-456a-990f-f540a29ea141",
   "metadata": {
    "tags": []
   },
   "outputs": [],
   "source": [
    "basedir= \"/work/dvalsecc/ttHbb/ttHbb_jets_partons_studies/sig_bkg_30_08_2023_v2/out_forTraining_sig_bkg\"\n",
    "#basedir= \"/eos/user/d/dvalsecc/www/ttHbbAnalysis/training_dataset/v3_sig_forTrainingDataset/\""
   ]
  },
  {
   "cell_type": "code",
   "execution_count": 5,
   "id": "72020e7f-30fb-45b8-bf21-74a325fec8c1",
   "metadata": {
    "tags": []
   },
   "outputs": [
    {
     "data": {
      "text/plain": [
       "['all_jets_fullRun2_ttHTobb_forTraining_2018_v3.parquet',\n",
       " 'all_jets_fullRun2_ttHTobb_forTraining_2016_PreVFP_v3.parquet',\n",
       " 'all_jets_fullRun2_ttHTobb_forTraining_2017_v3.parquet',\n",
       " 'all_jets_fullRun2_ttHTobb_forTraining_2016_PostVFP_v3.parquet']"
      ]
     },
     "execution_count": 5,
     "metadata": {},
     "output_type": "execute_result"
    }
   ],
   "source": [
    "os.listdir(basedir)"
   ]
  },
  {
   "cell_type": "code",
   "execution_count": 6,
   "id": "7e134e3f-20a8-490f-b18a-0026d488e0d6",
   "metadata": {
    "tags": []
   },
   "outputs": [],
   "source": [
    "df = ak.from_parquet(basedir)"
   ]
  },
  {
   "cell_type": "code",
   "execution_count": 7,
   "id": "c7d211a6-c7a1-4adb-97c9-a6638ad00e42",
   "metadata": {
    "tags": []
   },
   "outputs": [
    {
     "data": {
      "text/plain": [
       "['jets',\n",
       " 'partons_matched',\n",
       " 'partons',\n",
       " 'generator_info',\n",
       " 'lepton_partons',\n",
       " 'lepton_reco',\n",
       " 'met',\n",
       " 'higgs',\n",
       " 'weight']"
      ]
     },
     "execution_count": 7,
     "metadata": {},
     "output_type": "execute_result"
    }
   ],
   "source": [
    "df.fields"
   ]
  },
  {
   "cell_type": "code",
   "execution_count": 8,
   "id": "4e68c183-811d-4452-8085-6c075f0be030",
   "metadata": {
    "tags": []
   },
   "outputs": [],
   "source": [
    "(jets,_,_,_,_,lep, met,_, weight) = ak.unzip(df)\n",
    "jets = ak.with_name(jets, name=\"Momentum4D\")\n",
    "lep = ak.with_name(lep, name=\"Momentum4D\")\n",
    "met = ak.with_name(met, name=\"Momentum4D\")"
   ]
  },
  {
   "cell_type": "code",
   "execution_count": 9,
   "id": "c3871dd0-2e3a-490b-9db0-3801a06a8136",
   "metadata": {},
   "outputs": [
    {
     "data": {
      "text/plain": [
       "<MomentumArray4D [[{pt: 108, eta: 0.826, ... prov: -1}]] type='3584250 * var * M...'>"
      ]
     },
     "execution_count": 9,
     "metadata": {},
     "output_type": "execute_result"
    }
   ],
   "source": [
    "jets"
   ]
  },
  {
   "cell_type": "code",
   "execution_count": 10,
   "id": "8a739cfb-91af-4689-bfc3-efdebd7f0938",
   "metadata": {
    "tags": []
   },
   "outputs": [
    {
     "data": {
      "image/png": "[encoded data removed]",
      "text/plain": [
       "<Figure size 1000x1000 with 1 Axes>"
      ]
     },
     "metadata": {},
     "output_type": "display_data"
    }
   ],
   "source": [
    "plt.hist(ak.num(jets))\n",
    "plt.yscale(\"log\")"
   ]
  },
  {
   "cell_type": "code",
   "execution_count": 11,
   "id": "b99b6805-b901-4b4b-b797-b615601b7996",
   "metadata": {
    "tags": []
   },
   "outputs": [
    {
     "name": "stdout",
     "output_type": "stream",
     "text": [
      "Source_data, ['batch_size', 'num_Source', 4]\n",
      "Source_mask, ['batch_size', 'num_Source']\n",
      "Met_data, ['batch_size', 'num_Met', 3]\n",
      "Met_mask, ['batch_size', 'num_Met']\n",
      "Lepton_data, ['batch_size', 'num_Lepton', 3]\n",
      "Lepton_mask, ['batch_size', 'num_Lepton']\n",
      "ht_data, ['batch_size', 'num_ht', 1]\n",
      "ht_mask, ['batch_size', 'num_ht']\n",
      "t1_assignment_log_probability, ['Reshapet1_assignment_log_probability_dim_0', 'Reshapet1_assignment_log_probability_dim_1', 'Reshapet1_assignment_log_probability_dim_2', 'Reshapet1_assignment_log_probability_dim_3']\n",
      "t2_assignment_log_probability, ['Reshapet2_assignment_log_probability_dim_0', 'Reshapet2_assignment_log_probability_dim_1']\n",
      "h_assignment_log_probability, ['Reshapeh_assignment_log_probability_dim_0', 'Reshapeh_assignment_log_probability_dim_1', 'Reshapeh_assignment_log_probability_dim_2']\n",
      "t1_detection_log_probability, ['Logt1_detection_log_probability_dim_0']\n",
      "t2_detection_log_probability, ['Logt1_detection_log_probability_dim_0']\n",
      "h_detection_log_probability, ['Logt1_detection_log_probability_dim_0']\n"
     ]
    },
    {
     "name": "stderr",
     "output_type": "stream",
     "text": [
      "2025-05-06 11:26:12.558135970 [E:onnxruntime:Default, provider_bridge_ort.cc:1480 TryGetProviderInfo_CUDA] /onnxruntime_src/onnxruntime/core/session/provider_bridge_ort.cc:1193 onnxruntime::Provider& onnxruntime::ProviderLibrary::Get() [ONNXRuntimeError] : 1 : FAIL : Failed to load library libonnxruntime_providers_cuda.so with error: libcublasLt.so.11: cannot open shared object file: No such file or directory\n",
      "\n",
      "2025-05-06 11:26:12.558178283 [W:onnxruntime:Default, onnxruntime_pybind_state.cc:747 CreateExecutionProviderInstance] Failed to create CUDAExecutionProvider. Please reference https://onnxruntime.ai/docs/execution-providers/CUDA-ExecutionProvider.html#requirements to ensure all dependencies are met.\n"
     ]
    }
   ],
   "source": [
    "import onnxruntime    # to inference ONNX models, we use the ONNX Runtime\n",
    "sess_options = onnxruntime.SessionOptions()\n",
    "\n",
    "sess_options.intra_op_num_threads = 10\n",
    "sess_options.inter_op_num_threads = 4\n",
    "#sess_options.intra_op_num_threads = 15\n",
    "sess_options.execution_mode = onnxruntime.ExecutionMode.ORT_PARALLEL\n",
    "sess_options.graph_optimization_level = onnxruntime.GraphOptimizationLevel.ORT_ENABLE_ALL\n",
    "\n",
    "\n",
    "session = onnxruntime.InferenceSession(\n",
    "    f\"spanet-gpu3.onnx\", \n",
    "    sess_options = sess_options,\n",
    "    providers=['CUDAExecutionProvider'], #'CPUExecutionProvider']\n",
    ")\n",
    "\n",
    "for input in session.get_inputs():\n",
    "    print(f\"{input.name}, {input.shape}\")\n",
    "    \n",
    "for output in session.get_outputs():\n",
    "    print(f\"{output.name}, {output.shape}\")"
   ]
  },
  {
   "cell_type": "code",
   "execution_count": 12,
   "id": "75384924-c88f-47d1-b157-5cfad719b693",
   "metadata": {
    "tags": []
   },
   "outputs": [],
   "source": [
    "jets_padded = ak.fill_none(ak.pad_none(jets, 16, clip=True), {\"btag\":0., \"pt\":0., \"phi\":0., \"eta\":0.})\n",
    "\n",
    "data = np.transpose(\n",
    "    np.stack([\n",
    "    ak.to_numpy(jets_padded.btag),\n",
    "    ak.to_numpy(jets_padded.eta),\n",
    "    ak.to_numpy(jets_padded.phi),\n",
    "    #ak.to_numpy(jets_padded.pt),\n",
    "    np.log(1 + ak.to_numpy(jets_padded.pt))\n",
    "    \n",
    "    ]),\n",
    "    axes=[1,2,0]).astype(np.float32)\n",
    "\n",
    "mask = ~ak.to_numpy(jets_padded.pt == 0)\n",
    "\n",
    "met_data = np.stack([ak.to_numpy(met.eta),\n",
    "                     ak.to_numpy(met.phi),\n",
    "                     #ak.to_numpy(met.pt)\n",
    "                     np.log(1+ ak.to_numpy(met.pt))\n",
    "                    ], axis=1)[:,None,:].astype(np.float32)\n",
    "\n",
    "lep_data = np.stack([ak.to_numpy(lep[:,0].eta),\n",
    "                     ak.to_numpy(lep[:,0].phi),\n",
    "                     #ak.to_numpy(lep[:,0].pt)\n",
    "                     np.log(1+ ak.to_numpy(lep[:,0].pt))\n",
    "                ], axis=1)[:,None,:].astype(np.float32)\n",
    "\n",
    "ht_array = np.sum(ak.to_numpy(jets_padded.pt), axis=1)[:,None, None].astype(np.float32)\n",
    "\n",
    "mask_global = np.ones(shape=[met_data.shape[0], 1]) == 1\n",
    "\n",
    "njets_good = ak.sum(mask, axis=1)"
   ]
  },
  {
   "cell_type": "code",
   "execution_count": 13,
   "id": "7e33dda4-43d7-4aed-8945-ae4a9134b259",
   "metadata": {
    "tags": []
   },
   "outputs": [
    {
     "name": "stdout",
     "output_type": "stream",
     "text": [
      "nbatches=7000\n"
     ]
    }
   ],
   "source": [
    "batch_size = 512\n",
    "nbatches = data.shape[0]// batch_size\n",
    "print(f\"{nbatches=}\")"
   ]
  },
  {
   "cell_type": "code",
   "execution_count": 52,
   "id": "320412c8-43f1-4a88-9ce6-ef11161dfb8c",
   "metadata": {
    "tags": []
   },
   "outputs": [
    {
     "data": {
      "application/vnd.jupyter.widget-view+json": {
       "model_id": "b8ed04f2f70a482f931db4ed4f6f9806",
       "version_major": 2,
       "version_minor": 0
      },
      "text/plain": [
       "Output()"
      ]
     },
     "metadata": {},
     "output_type": "display_data"
    },
    {
     "data": {
      "text/html": [
       "<pre style=\"white-space:pre;overflow-x:auto;line-height:normal;font-family:Menlo,'DejaVu Sans Mono',consolas,'Courier New',monospace\"></pre>\n"
      ],
      "text/plain": []
     },
     "metadata": {},
     "output_type": "display_data"
    },
    {
     "data": {
      "text/html": [
       "<pre style=\"white-space:pre;overflow-x:auto;line-height:normal;font-family:Menlo,'DejaVu Sans Mono',consolas,'Courier New',monospace\">\n",
       "</pre>\n"
      ],
      "text/plain": [
       "\n"
      ]
     },
     "metadata": {},
     "output_type": "display_data"
    }
   ],
   "source": [
    "from rich.progress import track\n",
    "\n",
    "provenance = np.zeros((data.shape[0], 16))\n",
    "provenance_no_overlap = np.zeros((data.shape[0], 16))\n",
    "\n",
    "prob_assignment = np.zeros((data.shape[0], 16, 3), dtype=np.int8)\n",
    "predictions_index = [ np.zeros((data.shape[0], 3), dtype=np.int8),\n",
    "                     np.zeros((data.shape[0], 1), dtype=np.int8),\n",
    "                     np.zeros((data.shape[0], 2), dtype=np.int8)\n",
    "                    ]\n",
    "predictions_index_nooverlap = [ \n",
    "                     np.zeros((data.shape[0], 2), dtype=np.int8), #thad W\n",
    "                     np.zeros((data.shape[0], 1), dtype=np.int8), #thad b\n",
    "                     np.zeros((data.shape[0], 1), dtype=np.int8), #tlep\n",
    "                     np.zeros((data.shape[0], 2), dtype=np.int8)  #higgs\n",
    "                    ]\n",
    "\n",
    "for i in track(range(nbatches), \"Inference\"):\n",
    "    start = i*batch_size\n",
    "    if i < (nbatches-1):\n",
    "        stop = start+batch_size\n",
    "    else:\n",
    "        stop = len(data)\n",
    "    outputs = session.run(input_feed={\n",
    "        \"Source_data\": data[start:stop],\n",
    "        \"Source_mask\": mask[start:stop],\n",
    "        \"Met_data\": met_data[start:stop],\n",
    "        \"Met_mask\": mask_global[start:stop],\n",
    "        \"Lepton_data\": lep_data[start:stop],\n",
    "        \"Lepton_mask\": mask_global[start:stop],\n",
    "        \"ht_data\": ht_array[start:stop], \n",
    "        \"ht_mask\": mask_global[start:stop]},\n",
    "        output_names=[\"t1_assignment_log_probability\", \"t2_assignment_log_probability\",\n",
    "                     \"h_assignment_log_probability\"]\n",
    "        )\n",
    "\n",
    "    preds_nomask = spanet_predictions.extract_predictions(outputs[0:3], masking=False)\n",
    "    prov, prob = assign_provenance_and_prob(*preds_nomask, outputs[0], outputs[1], outputs[2], 16)\n",
    "    #print(prob)\n",
    "    provenance[start:stop] = prov\n",
    "    prob_assignment[start:stop]= prob\n",
    "    for j in range(3):\n",
    "       predictions_index[j][start:stop] = preds_nomask[j]\n",
    "    \n",
    "    prov_no_over, assign_order_counts = assign_prov_higgs_first(outputs)\n",
    "    provenance_no_overlap[start:stop] = prov_no_over\n",
    "\n",
    "\n",
    "    (h_idx_nooverlap, thad_w_idx_nooverlap,\n",
    "     thad_b_idx_nooverlap, tlep_idx_nooverlap) = get_assignment_indices(prov_no_over, 16)\n",
    "    predictions_index_nooverlap[0][start:stop] = thad_w_idx_nooverlap\n",
    "    predictions_index_nooverlap[1][start:stop] = thad_b_idx_nooverlap\n",
    "    predictions_index_nooverlap[2][start:stop] = tlep_idx_nooverlap\n",
    "    predictions_index_nooverlap[3][start:stop] = h_idx_nooverlap\n",
    "            \n",
    "    break"
   ]
  },
  {
   "cell_type": "code",
   "execution_count": 74,
   "id": "157b48d1-5f3e-4bb7-9615-d989534260fa",
   "metadata": {},
   "outputs": [],
   "source": [
    "probabilities = np.exp(ak.to_numpy(prob_assignment))\n",
    "# Factor two for symmetry reasons\n",
    "probabilities[:,:,0] = probabilities[:,:,0] *2\n",
    "probabilities[:,:,2] = probabilities[:,:,2] * 2\n",
    "\n",
    "njets_good = ak.sum(mask, axis=1)\n",
    "prob_assign_reshape = np.reshape(prob_assignment, (-1, 3) )\n",
    "prob_masked = prob_assign_reshape[mask.flatten()]\n",
    "prob_ak = ak.unflatten(ak.from_numpy(prob_masked), njets_good)\n",
    "\n",
    "prov_overlap_ak = ak.unflatten(ak.from_numpy(provenance_no_overlap)[mask], njets_good)"
   ]
  },
  {
   "cell_type": "code",
   "execution_count": 90,
   "id": "e27abf45-c4d0-4991-9b43-19906e24277c",
   "metadata": {},
   "outputs": [],
   "source": [
    "df[\"prob_ak\"] = prob_ak\n",
    "df[\"jets\"] = ak.zip( dict(zip(df.jets.fields,ak.unzip(df.jets))) |  {\"prov_Thad\": prob_ak[:,:,0],\n",
    "                                                                     \"prov_Tlep\": prob_ak[:,:,1],\n",
    "                                                                     \"prov_H\": prob_ak[:,:,2],\n",
    "                                                                    })\n",
    "df[\"jets\"] = ak.with_field(df.jets, prov_overlap_ak, \"prov_nooverlap\")\n",
    "df[\"higgs_predicted_indices\"] = ak.from_numpy(predictions_index[2])\n",
    "df[\"tophad_predicted_indices\"] = ak.from_numpy(predictions_index[0])\n",
    "df[\"toplep_predicted_indices\"] = ak.from_numpy(predictions_index[1])\n",
    "\n",
    "df[\"higgs_predicted_indices_nooverlap\"] = ak.from_numpy(predictions_index_nooverlap[3])\n",
    "df[\"tophad_w_predicted_indices_nooverlap\"] = ak.from_numpy(predictions_index_nooverlap[0])\n",
    "df[\"tophad_b_predicted_indices_nooverlap\"] = ak.from_numpy(predictions_index_nooverlap[1])\n",
    "df[\"toplep_predicted_indices_nooverlap\"] = ak.from_numpy(predictions_index_nooverlap[2])\n",
    "\n"
   ]
  },
  {
   "cell_type": "code",
   "execution_count": 91,
   "id": "910a2e3b-5b8c-444e-a3a5-4c3e33247d56",
   "metadata": {
    "tags": []
   },
   "outputs": [],
   "source": [
    "ak.to_parquet(df, basedir + \"/all_jets_fullRun2_ttHbb_forTraining_allyears_spanetprov_nooverlap_v3.parquet\")"
   ]
  },
  {
   "cell_type": "code",
   "execution_count": null,
   "id": "f8dcb54c-9c90-48c8-8d0e-9db2ff0e1d70",
   "metadata": {},
   "outputs": [],
   "source": []
  }
 ],
 "metadata": {
  "kernelspec": {
   "display_name": "Python 3 (ipykernel)",
   "language": "python",
   "name": "python3"
  },
  "language_info": {
   "codemirror_mode": {
    "name": "ipython",
    "version": 3
   },
   "file_extension": ".py",
   "mimetype": "text/x-python",
   "name": "python",
   "nbconvert_exporter": "python",
   "pygments_lexer": "ipython3",
   "version": "3.10.14"
  }
 },
 "nbformat": 4,
 "nbformat_minor": 5
}
