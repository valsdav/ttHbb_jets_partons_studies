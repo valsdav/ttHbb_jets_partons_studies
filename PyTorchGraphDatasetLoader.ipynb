{
 "cells": [
  {
   "cell_type": "code",
   "execution_count": 1,
   "id": "e29b4685-8254-4b37-9d40-eafc31239458",
   "metadata": {},
   "outputs": [],
   "source": [
    "import matplotlib.pyplot as plt\n",
    "from matplotlib.colors import LogNorm\n",
    "import mplhep as hep\n",
    "from coffea.util import load\n",
    "import numpy as np\n",
    "import pandas as pd\n",
    "import awkward as ak\n",
    "from coffea.nanoevents import NanoEventsFactory, NanoAODSchema\n",
    "from numba import njit\n",
    "import vector\n",
    "vector.register_numba()\n",
    "vector.register_awkward()\n",
    "\n",
    "from pprint import pprint \n",
    "hep.style.use(hep.style.ROOT)\n",
    "\n",
    "import hist"
   ]
  },
  {
   "cell_type": "code",
   "execution_count": 3,
   "id": "f2c965e6-456a-4f32-b216-e55e6d874cab",
   "metadata": {},
   "outputs": [],
   "source": [
    "df = ak.from_parquet(\"jets_combinations_ttHbb_fullymatched_v2.parquet\")"
   ]
  },
  {
   "cell_type": "code",
   "execution_count": 4,
   "id": "92432182-79e9-4a1f-945b-33d5e4be42c1",
   "metadata": {},
   "outputs": [],
   "source": [
    "(jets_fullymatched,  # initial collections of jets, already fully matched\n",
    "comb_index,          # indices of jets with all the combinations for all the events\n",
    "signal_comb,         # mask to get the \"signal\" combination  [events, True/False]\n",
    "jets_combinations,   # collections of jets, many different collections for each event (from comb_index)\n",
    "higgs_jets,          # higgs_jets (index 0, 1 of the combination)\n",
    "tlep_jets,           # tlep jet (index 2 of the combination)\n",
    "thad_jets,           # thad jets (index 3,4,5 of the combination)\n",
    "whad_jets            # whad_jets (index 4 5 of the combination)\n",
    ") = ak.unzip(df)\n",
    "\n",
    "jets_combinations = ak.with_name(jets_combinations, name=\"Momentum4D\")\n",
    "higgs_jets = ak.with_name(higgs_jets, name=\"Momentum4D\")\n",
    "tlep_jets = ak.with_name(tlep_jets, name=\"Momentum4D\")\n",
    "thad_jets = ak.with_name(thad_jets, name=\"Momentum4D\")\n",
    "whad_jets = ak.with_name(whad_jets, name=\"Momentum4D\")"
   ]
  },
  {
   "cell_type": "code",
   "execution_count": 5,
   "id": "7d40aeaa-7972-4f11-bc86-a6350afafaf5",
   "metadata": {},
   "outputs": [],
   "source": [
    "jets_signal = ak.flatten(jets_combinations[signal_comb], axis=1)"
   ]
  },
  {
   "cell_type": "code",
   "execution_count": 27,
   "id": "65d3f34b-61e3-49c2-ad06-17d988d627fc",
   "metadata": {},
   "outputs": [],
   "source": [
    "def to_flat_numpy(X, fields, axis=1, allow_missing=False):\n",
    "    return np.stack([ak.to_numpy(X[f], allow_missing=allow_missing) for f in fields], axis=axis)\n",
    "\n",
    "def to_flat_tensor(X, fields, axis=1, allow_missing=False):\n",
    "    return torch.tensor(np.stack([ak.to_numpy(X[f], allow_missing=allow_missing) for f in fields], axis=axis))\n"
   ]
  },
  {
   "cell_type": "code",
   "execution_count": 28,
   "id": "e3242085-a30b-4d03-939a-496df65adc68",
   "metadata": {},
   "outputs": [
    {
     "data": {
      "text/plain": [
       "array([[ 4.25625000e+01,  7.23876953e-01,  3.02441406e+00,\n",
       "         9.98046875e-01],\n",
       "       [ 1.26000000e+02,  2.36523438e+00, -2.85644531e+00,\n",
       "         9.96093750e-01],\n",
       "       [ 8.43750000e+01,  2.15576172e+00,  1.50146484e+00,\n",
       "         1.91406250e-01],\n",
       "       [ 1.02437500e+02,  1.11718750e+00, -8.15795898e-01,\n",
       "         9.99511719e-01],\n",
       "       [ 1.41500000e+02,  1.50024414e+00,  1.18139648e+00,\n",
       "         6.28280640e-03],\n",
       "       [ 1.23812500e+02,  1.67382812e+00,  4.42382812e-01,\n",
       "         6.17599487e-03]])"
      ]
     },
     "execution_count": 28,
     "metadata": {},
     "output_type": "execute_result"
    }
   ],
   "source": [
    "to_flat_numpy(jets_signal[0], [\"pt\",\"eta\",\"phi\", \"btag\"])"
   ]
  },
  {
   "cell_type": "code",
   "execution_count": 31,
   "id": "c7c7dc81-4fa6-474b-87da-7b9cf31a6806",
   "metadata": {},
   "outputs": [],
   "source": [
    "t = to_flat_tensor(jets_signal[0], [\"pt\",\"eta\",\"phi\", \"btag\"])"
   ]
  },
  {
   "cell_type": "markdown",
   "id": "8cdfb935-9220-45ad-8158-64653564d6ed",
   "metadata": {},
   "source": [
    "# PyTorch geometric dataset"
   ]
  },
  {
   "cell_type": "code",
   "execution_count": 53,
   "id": "3a04380f-6e6a-438d-93b7-d4bad86de92b",
   "metadata": {},
   "outputs": [],
   "source": [
    "import os\n",
    "\n",
    "import numpy as np\n",
    "import uproot\n",
    "import torch\n",
    "from torch_geometric.data import InMemoryDataset, Data\n",
    "from torch_geometric.transforms import NormalizeFeatures\n",
    "import torch.nn.functional as F\n",
    "import awkward as ak\n",
    "from tqdm import tqdm"
   ]
  },
  {
   "cell_type": "code",
   "execution_count": 96,
   "id": "429e9e2b-409d-4f83-bda1-176513470d0d",
   "metadata": {},
   "outputs": [],
   "source": [
    "class EventTaggingDataset(InMemoryDataset):\n",
    "    def __init__(self, root, transform=None, pre_transform=None, pre_filter=None):\n",
    "        \n",
    "        \n",
    "        super().__init__(root, transform, pre_transform, pre_filter)\n",
    "        self.data, self.slices = torch.load(self.processed_paths[0])\n",
    "\n",
    "    @property\n",
    "    def raw_file_names(self):\n",
    "        return [self.root + '/jets_combinations_ttHbb_fullymatched_v2.parquet']\n",
    "\n",
    "    @property\n",
    "    def processed_file_names(self):\n",
    "        return [self.root + '/jets_combinations_ttHbb_fullymatched_v2.pt']\n",
    "\n",
    "\n",
    "    def process(self):\n",
    "        # Read data into huge `Data` list.\n",
    "        data_list = []\n",
    "        fields = [\"pt\",\"eta\",\"phi\",\"btag\"]\n",
    "        for file in self.raw_file_names:\n",
    "            df = ak.from_parquet(file)\n",
    "            jets = df.jets_fullymatched\n",
    "            \n",
    "            for i_ev in tqdm(range(len(jets))):\n",
    "                njets = len(jets[i_ev])\n",
    "                nodes_feat = to_flat_tensor(jets[i_ev], fields)\n",
    "                E =  np.ones((njets, njets))\n",
    "                np.fill_diagonal(E, 0)\n",
    "                edge_index = torch.tensor(np.stack(np.where(E)))\n",
    "                prov = ak.to_numpy(jets[i_ev].prov) -1\n",
    "                np.place(prov, prov==-2, 4)\n",
    "                y = F.one_hot(torch.tensor(prov, dtype=int), num_classes=5)\n",
    "                \n",
    "                data_list.append(\n",
    "                    Data(\n",
    "                        x=nodes_feat,\n",
    "                        edge_index=edge_index,\n",
    "                        num_nodes=njets,\n",
    "                        num_node_features=nodes_feat.shape[1],\n",
    "                        y=y\n",
    "                    )\n",
    "                )\n",
    "        \n",
    "        if self.pre_filter is not None:\n",
    "            data_list = [data for data in data_list if self.pre_filter(data)]\n",
    "\n",
    "        if self.pre_transform is not None:\n",
    "            data_list = [self.pre_transform(data) for data in data_list]\n",
    "\n",
    "        data, slices = self.collate(data_list)\n",
    "        torch.save((data, slices), self.processed_paths[0])"
   ]
  },
  {
   "cell_type": "code",
   "execution_count": 97,
   "id": "94413fda-ea68-432d-b095-79a05c500186",
   "metadata": {},
   "outputs": [
    {
     "name": "stderr",
     "output_type": "stream",
     "text": [
      "Processing...\n",
      "100%|████████████████████████████████████████████████████████████████████████████████████████████████████████████████████████████████████████████████████████████████████████████████████████████████████████████████| 67876/67876 [02:40<00:00, 423.21it/s]\n",
      "Done!\n"
     ]
    }
   ],
   "source": [
    "data = EventTaggingDataset(\".\")"
   ]
  },
  {
   "cell_type": "code",
   "execution_count": 102,
   "id": "45a3e0c3-c28d-403f-a81e-077e08c7feb0",
   "metadata": {},
   "outputs": [],
   "source": [
    "from torch_geometric.loader import DataLoader\n",
    "training_df = DataLoader(data, batch_size=100, shuffle=True)"
   ]
  },
  {
   "cell_type": "code",
   "execution_count": 105,
   "id": "385a5f0b-3467-4af4-a454-7f37ccb70973",
   "metadata": {},
   "outputs": [],
   "source": [
    "for df in training_df:\n",
    "    break"
   ]
  },
  {
   "cell_type": "code",
   "execution_count": 117,
   "id": "1ccfb58c-c04a-4859-871c-507a3d3a90aa",
   "metadata": {},
   "outputs": [
    {
     "data": {
      "text/plain": [
       "<matplotlib.collections.PathCollection at 0x7fb0fefc44f0>"
      ]
     },
     "execution_count": 117,
     "metadata": {},
     "output_type": "execute_result"
    },
    {
     "data": {
      "image/png": "[encoded data removed]",
      "text/plain": [
       "<Figure size 1000x1000 with 1 Axes>"
      ]
     },
     "metadata": {},
     "output_type": "display_data"
    }
   ],
   "source": [
    "plt.scatter(df.edge_index[0],df.edge_index[1],marker='.')"
   ]
  },
  {
   "cell_type": "code",
   "execution_count": 123,
   "id": "bab47412-b3c7-403b-a53f-3beaeae16608",
   "metadata": {},
   "outputs": [
    {
     "data": {
      "text/plain": [
       "True"
      ]
     },
     "execution_count": 123,
     "metadata": {},
     "output_type": "execute_result"
    }
   ],
   "source": [
    "df[0].is_undirected()"
   ]
  },
  {
   "cell_type": "code",
   "execution_count": 124,
   "id": "fc2c3a35-c5ce-470a-a3f3-e053108ad921",
   "metadata": {},
   "outputs": [
    {
     "data": {
      "text/plain": [
       "DataBatch(x=[671, 4], edge_index=[2, 3890], y=[671, 5], num_node_features=[100], num_nodes=671, batch=[671], ptr=[101])"
      ]
     },
     "execution_count": 124,
     "metadata": {},
     "output_type": "execute_result"
    }
   ],
   "source": [
    "df"
   ]
  },
  {
   "cell_type": "code",
   "execution_count": 197,
   "id": "16d00bb2-e489-440b-97e3-7b367ccaa06d",
   "metadata": {},
   "outputs": [],
   "source": [
    "import torch\n",
    "from torch.nn import Linear, Parameter\n",
    "from torch_geometric.nn import MessagePassing\n",
    "from torch_geometric.utils import add_self_loops, degree\n",
    "\n",
    "class GCNConv(MessagePassing):\n",
    "    def __init__(self, in_channels, out_channels):\n",
    "        super().__init__(aggr='mean')  # \"Add\" aggregation (Step 5).\n",
    "        self.lin = Linear(in_channels, out_channels, bias=False)\n",
    "        self.bias = Parameter(torch.Tensor(out_channels))\n",
    "\n",
    "        self.reset_parameters()\n",
    "\n",
    "    def reset_parameters(self):\n",
    "        self.lin.reset_parameters()\n",
    "        self.bias.data.zero_()\n",
    "\n",
    "    def forward(self, x, edge_index):\n",
    "        # x has shape [N, in_channels]\n",
    "        # edge_index has shape [2, E]\n",
    "\n",
    "        # Step 1: Add self-loops to the adjacency matrix.\n",
    "        edge_index, _ = add_self_loops(edge_index, num_nodes=x.size(0))\n",
    "\n",
    "        print(x[0:3])\n",
    "        # Step 2: Linearly transform node feature matrix.\n",
    "        x = self.lin(x)\n",
    "        print(x[0:3])\n",
    "\n",
    "        # Step 3: Compute normalization.\n",
    "        row, col = edge_index\n",
    "        deg = degree(col, x.size(0), dtype=x.dtype)\n",
    "        deg_inv_sqrt = deg.pow(-0.5)\n",
    "        deg_inv_sqrt[deg_inv_sqrt == float('inf')] = 0\n",
    "        norm = deg_inv_sqrt[row] * deg_inv_sqrt[col]\n",
    "\n",
    "        print(edge_index)\n",
    "        print(norm)\n",
    "        # Step 4-5: Start propagating messages.\n",
    "        out = self.propagate(edge_index, x=x, norm=norm)\n",
    "\n",
    "        # Step 6: Apply a final bias vector.\n",
    "        out += self.bias\n",
    "\n",
    "        return out\n",
    "\n",
    "    def message(self, x_i, x_j, norm):\n",
    "        # x_j has shape [E, out_channels]\n",
    "        print(x_i[0:10])\n",
    "        print(x_j[0:10])\n",
    "        # Step 4: Normalize node features.\n",
    "        return norm.view(-1, 1) * x_i"
   ]
  },
  {
   "cell_type": "code",
   "execution_count": 202,
   "id": "0603a668-d8f4-49fe-8f17-852af933142f",
   "metadata": {},
   "outputs": [],
   "source": [
    "gcn= GCNConv(4, 6)"
   ]
  },
  {
   "cell_type": "code",
   "execution_count": 203,
   "id": "96703b53-5c71-4839-8fc7-659fb42265b9",
   "metadata": {},
   "outputs": [],
   "source": [
    "single_df = data[0]"
   ]
  },
  {
   "cell_type": "code",
   "execution_count": 204,
   "id": "923b8bb6-7949-4a66-b31d-0cf89615ff2c",
   "metadata": {},
   "outputs": [
    {
     "name": "stdout",
     "output_type": "stream",
     "text": [
      "tensor([[ 1.4150e+02,  1.5002e+00,  1.1814e+00,  6.2828e-03],\n",
      "        [ 1.2600e+02,  2.3652e+00, -2.8564e+00,  9.9609e-01],\n",
      "        [ 1.2381e+02,  1.6738e+00,  4.4238e-01,  6.1760e-03]])\n",
      "tensor([[ 20.9799,  52.8095, -17.4519, -30.1470,  -1.8483, -66.7642],\n",
      "        [ 19.6724,  49.3646, -16.8348, -25.4185,  -0.8666, -59.0206],\n",
      "        [ 18.5045,  46.5402, -15.4916, -26.1895,  -1.4759, -58.3257]],\n",
      "       grad_fn=<SliceBackward0>)\n",
      "tensor([[0, 0, 0, 0, 0, 1, 1, 1, 1, 1, 2, 2, 2, 2, 2, 3, 3, 3, 3, 3, 4, 4, 4, 4,\n",
      "         4, 5, 5, 5, 5, 5, 0, 1, 2, 3, 4, 5],\n",
      "        [1, 2, 3, 4, 5, 0, 2, 3, 4, 5, 0, 1, 3, 4, 5, 0, 1, 2, 4, 5, 0, 1, 2, 3,\n",
      "         5, 0, 1, 2, 3, 4, 0, 1, 2, 3, 4, 5]])\n",
      "tensor([0.1667, 0.1667, 0.1667, 0.1667, 0.1667, 0.1667, 0.1667, 0.1667, 0.1667,\n",
      "        0.1667, 0.1667, 0.1667, 0.1667, 0.1667, 0.1667, 0.1667, 0.1667, 0.1667,\n",
      "        0.1667, 0.1667, 0.1667, 0.1667, 0.1667, 0.1667, 0.1667, 0.1667, 0.1667,\n",
      "        0.1667, 0.1667, 0.1667, 0.1667, 0.1667, 0.1667, 0.1667, 0.1667, 0.1667])\n",
      "tensor([[ 19.6724,  49.3646, -16.8348, -25.4185,  -0.8666, -59.0206],\n",
      "        [ 18.5045,  46.5402, -15.4916, -26.1895,  -1.4759, -58.3257],\n",
      "        [ 15.6011,  39.3766, -13.1777, -21.1171,  -1.1427, -48.1805],\n",
      "        [ 12.2009,  31.3924, -10.5387, -18.2207,  -1.5783, -39.5694],\n",
      "        [  5.4790,  15.0607,  -4.8367,  -9.7809,  -1.7688, -20.0323],\n",
      "        [ 20.9799,  52.8095, -17.4519, -30.1470,  -1.8483, -66.7642],\n",
      "        [ 18.5045,  46.5402, -15.4916, -26.1895,  -1.4759, -58.3257],\n",
      "        [ 15.6011,  39.3766, -13.1777, -21.1171,  -1.1427, -48.1805],\n",
      "        [ 12.2009,  31.3924, -10.5387, -18.2207,  -1.5783, -39.5694],\n",
      "        [  5.4790,  15.0607,  -4.8367,  -9.7809,  -1.7688, -20.0323]],\n",
      "       grad_fn=<SliceBackward0>)\n",
      "tensor([[ 20.9799,  52.8095, -17.4519, -30.1470,  -1.8483, -66.7642],\n",
      "        [ 20.9799,  52.8095, -17.4519, -30.1470,  -1.8483, -66.7642],\n",
      "        [ 20.9799,  52.8095, -17.4519, -30.1470,  -1.8483, -66.7642],\n",
      "        [ 20.9799,  52.8095, -17.4519, -30.1470,  -1.8483, -66.7642],\n",
      "        [ 20.9799,  52.8095, -17.4519, -30.1470,  -1.8483, -66.7642],\n",
      "        [ 19.6724,  49.3646, -16.8348, -25.4185,  -0.8666, -59.0206],\n",
      "        [ 19.6724,  49.3646, -16.8348, -25.4185,  -0.8666, -59.0206],\n",
      "        [ 19.6724,  49.3646, -16.8348, -25.4185,  -0.8666, -59.0206],\n",
      "        [ 19.6724,  49.3646, -16.8348, -25.4185,  -0.8666, -59.0206],\n",
      "        [ 19.6724,  49.3646, -16.8348, -25.4185,  -0.8666, -59.0206]],\n",
      "       grad_fn=<SliceBackward0>)\n"
     ]
    }
   ],
   "source": [
    "y = gcn.forward(single_df.x, single_df.edge_index)"
   ]
  },
  {
   "cell_type": "code",
   "execution_count": 205,
   "id": "a88e7acc-00a9-473c-905f-7da28520aa6d",
   "metadata": {},
   "outputs": [
    {
     "data": {
      "text/plain": [
       "tensor([[  3.4967,   8.8016,  -2.9086,  -5.0245,  -0.3080, -11.1274],\n",
       "        [  3.2787,   8.2274,  -2.8058,  -4.2364,  -0.1444,  -9.8368],\n",
       "        [  3.0841,   7.7567,  -2.5819,  -4.3649,  -0.2460,  -9.7210],\n",
       "        [  2.6002,   6.5628,  -2.1963,  -3.5195,  -0.1905,  -8.0301],\n",
       "        [  2.0335,   5.2321,  -1.7564,  -3.0368,  -0.2630,  -6.5949],\n",
       "        [  0.9132,   2.5101,  -0.8061,  -1.6301,  -0.2948,  -3.3387]],\n",
       "       grad_fn=<AddBackward0>)"
      ]
     },
     "execution_count": 205,
     "metadata": {},
     "output_type": "execute_result"
    }
   ],
   "source": []
  },
  {
   "cell_type": "code",
   "execution_count": 146,
   "id": "5e39b662-82ad-4bdd-9b65-ffff66bb5268",
   "metadata": {},
   "outputs": [
    {
     "data": {
      "text/plain": [
       "tensor([[ 0.7772, -1.2238, -0.9028, -1.2026,  0.0569],\n",
       "        [ 0.7772, -1.2238, -0.9028, -1.2026,  0.0569],\n",
       "        [ 0.7772, -1.2238, -0.9028, -1.2026,  0.0569],\n",
       "        [ 0.7772, -1.2238, -0.9028, -1.2026,  0.0569],\n",
       "        [ 0.7772, -1.2238, -0.9028, -1.2026,  0.0569],\n",
       "        [ 0.7772, -1.2238, -0.9028, -1.2026,  0.0569]],\n",
       "       grad_fn=<IndexBackward0>)"
      ]
     },
     "execution_count": 146,
     "metadata": {},
     "output_type": "execute_result"
    }
   ],
   "source": [
    "y[df.batch==0]"
   ]
  },
  {
   "cell_type": "code",
   "execution_count": 147,
   "id": "f723042a-c4f8-453f-9ddf-c27a449b3b3e",
   "metadata": {},
   "outputs": [
    {
     "data": {
      "text/plain": [
       "tensor([[ 1.1382, -1.7741, -1.3945, -1.7686, -0.0378],\n",
       "        [ 1.1382, -1.7741, -1.3945, -1.7686, -0.0378],\n",
       "        [ 1.1382, -1.7741, -1.3945, -1.7686, -0.0378],\n",
       "        [ 1.1382, -1.7741, -1.3945, -1.7686, -0.0378],\n",
       "        [ 1.1382, -1.7741, -1.3945, -1.7686, -0.0378],\n",
       "        [ 1.1382, -1.7741, -1.3945, -1.7686, -0.0378]],\n",
       "       grad_fn=<IndexBackward0>)"
      ]
     },
     "execution_count": 147,
     "metadata": {},
     "output_type": "execute_result"
    }
   ],
   "source": [
    "y[df.batch==1]"
   ]
  },
  {
   "cell_type": "code",
   "execution_count": null,
   "id": "d7088e09-6e14-462b-ad35-31d09cf6c588",
   "metadata": {},
   "outputs": [],
   "source": []
  }
 ],
 "metadata": {
  "kernelspec": {
   "display_name": "Python 3 (ipykernel)",
   "language": "python",
   "name": "python3"
  },
  "language_info": {
   "codemirror_mode": {
    "name": "ipython",
    "version": 3
   },
   "file_extension": ".py",
   "mimetype": "text/x-python",
   "name": "python",
   "nbconvert_exporter": "python",
   "pygments_lexer": "ipython3",
   "version": "3.9.15"
  }
 },
 "nbformat": 4,
 "nbformat_minor": 5
}
